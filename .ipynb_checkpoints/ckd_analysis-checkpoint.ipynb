{
 "cells": [
  {
   "cell_type": "code",
   "execution_count": 1,
   "id": "7575ceda-5c18-4775-a929-f10505314214",
   "metadata": {},
   "outputs": [
    {
     "name": "stderr",
     "output_type": "stream",
     "text": [
      "Matplotlib is building the font cache; this may take a moment.\n"
     ]
    }
   ],
   "source": [
    "import pandas as pd           # For data manipulation\n",
    "import numpy as np            # For numerical analysis\n",
    "from collections import Counter\n",
    "import matplotlib.pyplot as plt\n",
    "import seaborn as sns\n",
    "import missingno as msno      # For visualizing missing values\n",
    "\n",
    "# Scikit-learn libraries\n",
    "from sklearn.metrics import accuracy_score, confusion_matrix\n",
    "from sklearn.model_selection import train_test_split\n",
    "from sklearn.preprocessing import LabelEncoder\n",
    "from sklearn.linear_model import LogisticRegression\n",
    "\n",
    "import pickle                 # For saving/loading model\n"
   ]
  },
  {
   "cell_type": "code",
   "execution_count": 4,
   "id": "eb8c7015-e52f-4212-abcf-6587d0484e23",
   "metadata": {},
   "outputs": [],
   "source": [
    "df = pd.read_csv(\"dataset/kidney_disease.csv\")"
   ]
  },
  {
   "cell_type": "code",
   "execution_count": 5,
   "id": "4373b098-02a4-4aa7-aca5-5a90a71180f5",
   "metadata": {},
   "outputs": [
    {
     "data": {
      "text/html": [
       "<div>\n",
       "<style scoped>\n",
       "    .dataframe tbody tr th:only-of-type {\n",
       "        vertical-align: middle;\n",
       "    }\n",
       "\n",
       "    .dataframe tbody tr th {\n",
       "        vertical-align: top;\n",
       "    }\n",
       "\n",
       "    .dataframe thead th {\n",
       "        text-align: right;\n",
       "    }\n",
       "</style>\n",
       "<table border=\"1\" class=\"dataframe\">\n",
       "  <thead>\n",
       "    <tr style=\"text-align: right;\">\n",
       "      <th></th>\n",
       "      <th>id</th>\n",
       "      <th>age</th>\n",
       "      <th>bp</th>\n",
       "      <th>sg</th>\n",
       "      <th>al</th>\n",
       "      <th>su</th>\n",
       "      <th>rbc</th>\n",
       "      <th>pc</th>\n",
       "      <th>pcc</th>\n",
       "      <th>ba</th>\n",
       "      <th>...</th>\n",
       "      <th>pcv</th>\n",
       "      <th>wc</th>\n",
       "      <th>rc</th>\n",
       "      <th>htn</th>\n",
       "      <th>dm</th>\n",
       "      <th>cad</th>\n",
       "      <th>appet</th>\n",
       "      <th>pe</th>\n",
       "      <th>ane</th>\n",
       "      <th>classification</th>\n",
       "    </tr>\n",
       "  </thead>\n",
       "  <tbody>\n",
       "    <tr>\n",
       "      <th>0</th>\n",
       "      <td>0</td>\n",
       "      <td>48.0</td>\n",
       "      <td>80.0</td>\n",
       "      <td>1.020</td>\n",
       "      <td>1.0</td>\n",
       "      <td>0.0</td>\n",
       "      <td>NaN</td>\n",
       "      <td>normal</td>\n",
       "      <td>notpresent</td>\n",
       "      <td>notpresent</td>\n",
       "      <td>...</td>\n",
       "      <td>44</td>\n",
       "      <td>7800</td>\n",
       "      <td>5.2</td>\n",
       "      <td>yes</td>\n",
       "      <td>yes</td>\n",
       "      <td>no</td>\n",
       "      <td>good</td>\n",
       "      <td>no</td>\n",
       "      <td>no</td>\n",
       "      <td>ckd</td>\n",
       "    </tr>\n",
       "    <tr>\n",
       "      <th>1</th>\n",
       "      <td>1</td>\n",
       "      <td>7.0</td>\n",
       "      <td>50.0</td>\n",
       "      <td>1.020</td>\n",
       "      <td>4.0</td>\n",
       "      <td>0.0</td>\n",
       "      <td>NaN</td>\n",
       "      <td>normal</td>\n",
       "      <td>notpresent</td>\n",
       "      <td>notpresent</td>\n",
       "      <td>...</td>\n",
       "      <td>38</td>\n",
       "      <td>6000</td>\n",
       "      <td>NaN</td>\n",
       "      <td>no</td>\n",
       "      <td>no</td>\n",
       "      <td>no</td>\n",
       "      <td>good</td>\n",
       "      <td>no</td>\n",
       "      <td>no</td>\n",
       "      <td>ckd</td>\n",
       "    </tr>\n",
       "    <tr>\n",
       "      <th>2</th>\n",
       "      <td>2</td>\n",
       "      <td>62.0</td>\n",
       "      <td>80.0</td>\n",
       "      <td>1.010</td>\n",
       "      <td>2.0</td>\n",
       "      <td>3.0</td>\n",
       "      <td>normal</td>\n",
       "      <td>normal</td>\n",
       "      <td>notpresent</td>\n",
       "      <td>notpresent</td>\n",
       "      <td>...</td>\n",
       "      <td>31</td>\n",
       "      <td>7500</td>\n",
       "      <td>NaN</td>\n",
       "      <td>no</td>\n",
       "      <td>yes</td>\n",
       "      <td>no</td>\n",
       "      <td>poor</td>\n",
       "      <td>no</td>\n",
       "      <td>yes</td>\n",
       "      <td>ckd</td>\n",
       "    </tr>\n",
       "    <tr>\n",
       "      <th>3</th>\n",
       "      <td>3</td>\n",
       "      <td>48.0</td>\n",
       "      <td>70.0</td>\n",
       "      <td>1.005</td>\n",
       "      <td>4.0</td>\n",
       "      <td>0.0</td>\n",
       "      <td>normal</td>\n",
       "      <td>abnormal</td>\n",
       "      <td>present</td>\n",
       "      <td>notpresent</td>\n",
       "      <td>...</td>\n",
       "      <td>32</td>\n",
       "      <td>6700</td>\n",
       "      <td>3.9</td>\n",
       "      <td>yes</td>\n",
       "      <td>no</td>\n",
       "      <td>no</td>\n",
       "      <td>poor</td>\n",
       "      <td>yes</td>\n",
       "      <td>yes</td>\n",
       "      <td>ckd</td>\n",
       "    </tr>\n",
       "    <tr>\n",
       "      <th>4</th>\n",
       "      <td>4</td>\n",
       "      <td>51.0</td>\n",
       "      <td>80.0</td>\n",
       "      <td>1.010</td>\n",
       "      <td>2.0</td>\n",
       "      <td>0.0</td>\n",
       "      <td>normal</td>\n",
       "      <td>normal</td>\n",
       "      <td>notpresent</td>\n",
       "      <td>notpresent</td>\n",
       "      <td>...</td>\n",
       "      <td>35</td>\n",
       "      <td>7300</td>\n",
       "      <td>4.6</td>\n",
       "      <td>no</td>\n",
       "      <td>no</td>\n",
       "      <td>no</td>\n",
       "      <td>good</td>\n",
       "      <td>no</td>\n",
       "      <td>no</td>\n",
       "      <td>ckd</td>\n",
       "    </tr>\n",
       "  </tbody>\n",
       "</table>\n",
       "<p>5 rows × 26 columns</p>\n",
       "</div>"
      ],
      "text/plain": [
       "   id   age    bp     sg   al   su     rbc        pc         pcc          ba  \\\n",
       "0   0  48.0  80.0  1.020  1.0  0.0     NaN    normal  notpresent  notpresent   \n",
       "1   1   7.0  50.0  1.020  4.0  0.0     NaN    normal  notpresent  notpresent   \n",
       "2   2  62.0  80.0  1.010  2.0  3.0  normal    normal  notpresent  notpresent   \n",
       "3   3  48.0  70.0  1.005  4.0  0.0  normal  abnormal     present  notpresent   \n",
       "4   4  51.0  80.0  1.010  2.0  0.0  normal    normal  notpresent  notpresent   \n",
       "\n",
       "   ...  pcv    wc   rc  htn   dm  cad appet   pe  ane classification  \n",
       "0  ...   44  7800  5.2  yes  yes   no  good   no   no            ckd  \n",
       "1  ...   38  6000  NaN   no   no   no  good   no   no            ckd  \n",
       "2  ...   31  7500  NaN   no  yes   no  poor   no  yes            ckd  \n",
       "3  ...   32  6700  3.9  yes   no   no  poor  yes  yes            ckd  \n",
       "4  ...   35  7300  4.6   no   no   no  good   no   no            ckd  \n",
       "\n",
       "[5 rows x 26 columns]"
      ]
     },
     "execution_count": 5,
     "metadata": {},
     "output_type": "execute_result"
    }
   ],
   "source": [
    "df.head()"
   ]
  },
  {
   "cell_type": "code",
   "execution_count": 7,
   "id": "bda60cb5-ea8a-4f48-a101-84248f752fb0",
   "metadata": {},
   "outputs": [
    {
     "data": {
      "text/plain": [
       "Index(['id', 'age', 'bp', 'sg', 'al', 'su', 'rbc', 'pc', 'pcc', 'ba', 'bgr',\n",
       "       'bu', 'sc', 'sod', 'pot', 'hemo', 'pcv', 'wc', 'rc', 'htn', 'dm', 'cad',\n",
       "       'appet', 'pe', 'ane', 'classification'],\n",
       "      dtype='object')"
      ]
     },
     "execution_count": 7,
     "metadata": {},
     "output_type": "execute_result"
    }
   ],
   "source": [
    "df.columns\n"
   ]
  },
  {
   "cell_type": "code",
   "execution_count": 17,
   "id": "052a867f-dbef-4347-91d8-479852eabeec",
   "metadata": {},
   "outputs": [],
   "source": [
    "df.columns = [\n",
    "    'age', 'blood_pressure', 'specific_gravity', 'albumin', 'sugar',\n",
    "    'red_blood_cells', 'pus_cell', 'pus_cell_clumps', 'bacteria',\n",
    "    'blood_glucose_random', 'blood_urea', 'serum_creatinine', 'sodium', 'potassium',\n",
    "    'hemoglobin', 'packed_cell_volume', 'white_blood_cell_count', 'red_blood_cell_count',\n",
    "    'hypertension', 'diabetes_mellitus', 'coronary_artery_disease', 'appetite',\n",
    "    'pedal_edema', 'anemia', 'classification', 'id'\n",
    "]\n"
   ]
  },
  {
   "cell_type": "code",
   "execution_count": 18,
   "id": "044fe791-610d-426e-9304-0e94455d4521",
   "metadata": {},
   "outputs": [
    {
     "data": {
      "text/plain": [
       "Index(['age', 'blood_pressure', 'specific_gravity', 'albumin', 'sugar',\n",
       "       'red_blood_cells', 'pus_cell', 'pus_cell_clumps', 'bacteria',\n",
       "       'blood_glucose_random', 'blood_urea', 'serum_creatinine', 'sodium',\n",
       "       'potassium', 'hemoglobin', 'packed_cell_volume',\n",
       "       'white_blood_cell_count', 'red_blood_cell_count', 'hypertension',\n",
       "       'diabetes_mellitus', 'coronary_artery_disease', 'appetite',\n",
       "       'pedal_edema', 'anemia', 'classification', 'id'],\n",
       "      dtype='object')"
      ]
     },
     "execution_count": 18,
     "metadata": {},
     "output_type": "execute_result"
    }
   ],
   "source": [
    "df.columns"
   ]
  },
  {
   "cell_type": "code",
   "execution_count": 19,
   "id": "1db2fa1d-4ebd-4896-a13f-7d6b10446837",
   "metadata": {},
   "outputs": [
    {
     "name": "stdout",
     "output_type": "stream",
     "text": [
      "<class 'pandas.core.frame.DataFrame'>\n",
      "RangeIndex: 400 entries, 0 to 399\n",
      "Data columns (total 26 columns):\n",
      " #   Column                   Non-Null Count  Dtype  \n",
      "---  ------                   --------------  -----  \n",
      " 0   age                      400 non-null    int64  \n",
      " 1   blood_pressure           391 non-null    float64\n",
      " 2   specific_gravity         388 non-null    float64\n",
      " 3   albumin                  353 non-null    float64\n",
      " 4   sugar                    354 non-null    float64\n",
      " 5   red_blood_cells          351 non-null    float64\n",
      " 6   pus_cell                 248 non-null    object \n",
      " 7   pus_cell_clumps          335 non-null    object \n",
      " 8   bacteria                 396 non-null    object \n",
      " 9   blood_glucose_random     396 non-null    object \n",
      " 10  blood_urea               356 non-null    float64\n",
      " 11  serum_creatinine         381 non-null    float64\n",
      " 12  sodium                   383 non-null    float64\n",
      " 13  potassium                313 non-null    float64\n",
      " 14  hemoglobin               312 non-null    float64\n",
      " 15  packed_cell_volume       348 non-null    float64\n",
      " 16  white_blood_cell_count   330 non-null    object \n",
      " 17  red_blood_cell_count     295 non-null    object \n",
      " 18  hypertension             270 non-null    object \n",
      " 19  diabetes_mellitus        398 non-null    object \n",
      " 20  coronary_artery_disease  398 non-null    object \n",
      " 21  appetite                 398 non-null    object \n",
      " 22  pedal_edema              399 non-null    object \n",
      " 23  anemia                   399 non-null    object \n",
      " 24  classification           399 non-null    object \n",
      " 25  id                       400 non-null    object \n",
      "dtypes: float64(11), int64(1), object(14)\n",
      "memory usage: 81.4+ KB\n"
     ]
    }
   ],
   "source": [
    "df.info()"
   ]
  },
  {
   "cell_type": "code",
   "execution_count": 23,
   "id": "a91974c3-aaae-4aca-a5c2-1505d6c4e742",
   "metadata": {},
   "outputs": [
    {
     "data": {
      "text/plain": [
       "age                        False\n",
       "blood_pressure              True\n",
       "specific_gravity            True\n",
       "albumin                     True\n",
       "sugar                       True\n",
       "red_blood_cells             True\n",
       "pus_cell                    True\n",
       "pus_cell_clumps             True\n",
       "bacteria                    True\n",
       "blood_glucose_random        True\n",
       "blood_urea                  True\n",
       "serum_creatinine            True\n",
       "sodium                      True\n",
       "potassium                   True\n",
       "hemoglobin                  True\n",
       "packed_cell_volume          True\n",
       "white_blood_cell_count      True\n",
       "red_blood_cell_count        True\n",
       "hypertension                True\n",
       "diabetes_mellitus           True\n",
       "coronary_artery_disease     True\n",
       "appetite                    True\n",
       "pedal_edema                 True\n",
       "anemia                      True\n",
       "classification              True\n",
       "id                         False\n",
       "dtype: bool"
      ]
     },
     "execution_count": 23,
     "metadata": {},
     "output_type": "execute_result"
    }
   ],
   "source": [
    "df.isnull().any()"
   ]
  },
  {
   "cell_type": "code",
   "execution_count": 24,
   "id": "de8afd07-1826-41f5-98e4-fde842b72ac0",
   "metadata": {},
   "outputs": [
    {
     "name": "stdout",
     "output_type": "stream",
     "text": [
      "Shape of the dataset: (400, 26)\n",
      "\n",
      "Data Type Info:\n",
      "<class 'pandas.core.frame.DataFrame'>\n",
      "RangeIndex: 400 entries, 0 to 399\n",
      "Data columns (total 26 columns):\n",
      " #   Column                   Non-Null Count  Dtype  \n",
      "---  ------                   --------------  -----  \n",
      " 0   age                      400 non-null    int64  \n",
      " 1   blood_pressure           391 non-null    float64\n",
      " 2   specific_gravity         388 non-null    float64\n",
      " 3   albumin                  353 non-null    float64\n",
      " 4   sugar                    354 non-null    float64\n",
      " 5   red_blood_cells          351 non-null    float64\n",
      " 6   pus_cell                 248 non-null    object \n",
      " 7   pus_cell_clumps          335 non-null    object \n",
      " 8   bacteria                 396 non-null    object \n",
      " 9   blood_glucose_random     396 non-null    object \n",
      " 10  blood_urea               356 non-null    float64\n",
      " 11  serum_creatinine         381 non-null    float64\n",
      " 12  sodium                   383 non-null    float64\n",
      " 13  potassium                313 non-null    float64\n",
      " 14  hemoglobin               312 non-null    float64\n",
      " 15  packed_cell_volume       348 non-null    float64\n",
      " 16  white_blood_cell_count   330 non-null    object \n",
      " 17  red_blood_cell_count     295 non-null    object \n",
      " 18  hypertension             270 non-null    object \n",
      " 19  diabetes_mellitus        398 non-null    object \n",
      " 20  coronary_artery_disease  398 non-null    object \n",
      " 21  appetite                 398 non-null    object \n",
      " 22  pedal_edema              399 non-null    object \n",
      " 23  anemia                   399 non-null    object \n",
      " 24  classification           399 non-null    object \n",
      " 25  id                       400 non-null    object \n",
      "dtypes: float64(11), int64(1), object(14)\n",
      "memory usage: 81.4+ KB\n"
     ]
    }
   ],
   "source": [
    "# Checking the shape and data type info\n",
    "print(\"Shape of the dataset:\", df.shape)\n",
    "print(\"\\nData Type Info:\")\n",
    "df.info()\n"
   ]
  },
  {
   "cell_type": "code",
   "execution_count": null,
   "id": "4dbddf6d-cc71-4f9c-9bd0-67baaafaed0a",
   "metadata": {},
   "outputs": [],
   "source": []
  }
 ],
 "metadata": {
  "kernelspec": {
   "display_name": "Python 3 (ipykernel)",
   "language": "python",
   "name": "python3"
  },
  "language_info": {
   "codemirror_mode": {
    "name": "ipython",
    "version": 3
   },
   "file_extension": ".py",
   "mimetype": "text/x-python",
   "name": "python",
   "nbconvert_exporter": "python",
   "pygments_lexer": "ipython3",
   "version": "3.11.9"
  }
 },
 "nbformat": 4,
 "nbformat_minor": 5
}
