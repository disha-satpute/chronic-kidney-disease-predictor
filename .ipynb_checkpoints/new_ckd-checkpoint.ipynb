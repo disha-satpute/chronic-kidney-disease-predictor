{
 "cells": [
  {
   "cell_type": "code",
   "execution_count": 62,
   "id": "ebd5c228-ffb1-47b4-91a6-d13d7b1d3c2b",
   "metadata": {},
   "outputs": [
    {
     "name": "stdout",
     "output_type": "stream",
     "text": [
      "   id   age    bp     sg   al   su     rbc        pc         pcc          ba  \\\n",
      "0   0  48.0  80.0  1.020  1.0  0.0     NaN    normal  notpresent  notpresent   \n",
      "1   1   7.0  50.0  1.020  4.0  0.0     NaN    normal  notpresent  notpresent   \n",
      "2   2  62.0  80.0  1.010  2.0  3.0  normal    normal  notpresent  notpresent   \n",
      "3   3  48.0  70.0  1.005  4.0  0.0  normal  abnormal     present  notpresent   \n",
      "4   4  51.0  80.0  1.010  2.0  0.0  normal    normal  notpresent  notpresent   \n",
      "\n",
      "   ...  pcv    wc   rc  htn   dm  cad appet   pe  ane classification  \n",
      "0  ...   44  7800  5.2  yes  yes   no  good   no   no            ckd  \n",
      "1  ...   38  6000  NaN   no   no   no  good   no   no            ckd  \n",
      "2  ...   31  7500  NaN   no  yes   no  poor   no  yes            ckd  \n",
      "3  ...   32  6700  3.9  yes   no   no  poor  yes  yes            ckd  \n",
      "4  ...   35  7300  4.6   no   no   no  good   no   no            ckd  \n",
      "\n",
      "[5 rows x 26 columns]\n"
     ]
    }
   ],
   "source": [
    "import pandas as pd\n",
    "\n",
    "# Read the dataset\n",
    "df = pd.read_csv('dataset/kidney_disease.csv')\n",
    "\n",
    "# Display the first 5 rows to verify\n",
    "print(df.head())\n"
   ]
  },
  {
   "cell_type": "code",
   "execution_count": 87,
   "id": "25f8f59a-06c5-49b1-8a97-a7e65d710932",
   "metadata": {},
   "outputs": [
    {
     "name": "stdout",
     "output_type": "stream",
     "text": [
      "Index(['id', 'age', 'blood_pressure', 'specific_gravity', 'albumin', 'sugar',\n",
      "       'red_blood_cells', 'pus_cell', 'pus_cell_clumps', 'bacteria',\n",
      "       'blood_glucose_random', 'blood_urea', 'serum_creatinine', 'sodium',\n",
      "       'potassium', 'hemoglobin', 'packed_cell_volume',\n",
      "       'white_blood_cell_count', 'red_blood_cell_count', 'hypertension',\n",
      "       'diabetes_mellitus', 'coronary_artery_disease', 'appetite',\n",
      "       'pedal_edema', 'anemia', 'target'],\n",
      "      dtype='object')\n"
     ]
    }
   ],
   "source": [
    "#rename the colums\n",
    "df.rename(columns={\n",
    "    'bp': 'blood_pressure',\n",
    "    'sg': 'specific_gravity',\n",
    "    'al': 'albumin',\n",
    "    'su': 'sugar',\n",
    "    'rbc': 'red_blood_cells',\n",
    "    'pc': 'pus_cell',\n",
    "    'pcc': 'pus_cell_clumps',\n",
    "    'ba': 'bacteria',\n",
    "    'bgr': 'blood_glucose_random',\n",
    "    'bu': 'blood_urea',\n",
    "    'sc': 'serum_creatinine',\n",
    "    'sod': 'sodium',\n",
    "    'pot': 'potassium',\n",
    "    'hemo': 'hemoglobin',\n",
    "    'pcv': 'packed_cell_volume',\n",
    "    'wc': 'white_blood_cell_count',\n",
    "    'rc': 'red_blood_cell_count',\n",
    "    'htn': 'hypertension',\n",
    "    'dm': 'diabetes_mellitus',\n",
    "    'cad': 'coronary_artery_disease',\n",
    "    'appet': 'appetite',\n",
    "    'pe': 'pedal_edema',\n",
    "    'ane': 'anemia',\n",
    "    'classification': 'target'  # Optional: Rename target for clarity\n",
    "}, inplace=True)\n",
    "\n",
    "\n",
    "print(df.columns)\n"
   ]
  },
  {
   "cell_type": "code",
   "execution_count": 139,
   "id": "18a4041d-59ee-4f07-b830-326db08d3441",
   "metadata": {},
   "outputs": [
    {
     "name": "stdout",
     "output_type": "stream",
     "text": [
      "id                           0\n",
      "age                          9\n",
      "blood_pressure              12\n",
      "specific_gravity            47\n",
      "albumin                     46\n",
      "sugar                       49\n",
      "red_blood_cells            152\n",
      "pus_cell                    65\n",
      "pus_cell_clumps              4\n",
      "bacteria                     4\n",
      "blood_glucose_random        44\n",
      "blood_urea                  19\n",
      "serum_creatinine            17\n",
      "sodium                      87\n",
      "potassium                   88\n",
      "hemoglobin                  52\n",
      "packed_cell_volume          70\n",
      "white_blood_cell_count     105\n",
      "red_blood_cell_count       130\n",
      "hypertension                 2\n",
      "diabetes_mellitus            0\n",
      "coronary_artery_disease      0\n",
      "appetite                     1\n",
      "pedal_edema                  1\n",
      "anemia                       1\n",
      "target                       0\n",
      "dtype: int64\n"
     ]
    }
   ],
   "source": [
    "#handling missing values\n",
    "\n",
    "print(df.isnull().sum())\n",
    "\n"
   ]
  },
  {
   "cell_type": "code",
   "execution_count": 140,
   "id": "98538609-83b4-44c7-8472-e9f5767ba3fa",
   "metadata": {},
   "outputs": [],
   "source": [
    "df.drop('id', axis=1, inplace=True)    # drop id\n"
   ]
  },
  {
   "cell_type": "code",
   "execution_count": 141,
   "id": "95a87a7a-dd72-4236-91bd-9c3e645c03f3",
   "metadata": {},
   "outputs": [],
   "source": [
    "#handle categorical values\n",
    "cat_cols = ['red_blood_cells', 'pus_cell', 'pus_cell_clumps', 'bacteria', 'hypertension',\n",
    "            'diabetes_mellitus', 'coronary_artery_disease', 'appetite', 'pedal_edema', 'anemia']\n",
    "\n",
    "for col in cat_cols:\n",
    "    df[col] = df[col].fillna(df[col].mode()[0])\n",
    "\n"
   ]
  },
  {
   "cell_type": "code",
   "execution_count": 142,
   "id": "0a1ac5e3-9546-4639-b844-e01235d2f371",
   "metadata": {},
   "outputs": [],
   "source": [
    "num_cols = ['age', 'blood_pressure', 'specific_gravity', 'albumin', 'sugar',\n",
    "            'blood_glucose_random', 'blood_urea', 'serum_creatinine', 'sodium',\n",
    "            'potassium', 'hemoglobin', 'packed_cell_volume', 'white_blood_cell_count',\n",
    "            'red_blood_cell_count']\n",
    "\n",
    "for col in num_cols:\n",
    "    # Convert to numeric, force errors to NaN\n",
    "    df[col] = pd.to_numeric(df[col], errors='coerce')\n",
    "\n",
    "    # Fill NaN with mean\n",
    "    df[col] = df[col].fillna(df[col].mean())\n",
    "\n",
    "\n"
   ]
  },
  {
   "cell_type": "code",
   "execution_count": 143,
   "id": "c81f5ce1-6ebb-486d-b8bd-786545e69e5b",
   "metadata": {},
   "outputs": [
    {
     "name": "stdout",
     "output_type": "stream",
     "text": [
      "age                        0\n",
      "blood_pressure             0\n",
      "specific_gravity           0\n",
      "albumin                    0\n",
      "sugar                      0\n",
      "red_blood_cells            0\n",
      "pus_cell                   0\n",
      "pus_cell_clumps            0\n",
      "bacteria                   0\n",
      "blood_glucose_random       0\n",
      "blood_urea                 0\n",
      "serum_creatinine           0\n",
      "sodium                     0\n",
      "potassium                  0\n",
      "hemoglobin                 0\n",
      "packed_cell_volume         0\n",
      "white_blood_cell_count     0\n",
      "red_blood_cell_count       0\n",
      "hypertension               0\n",
      "diabetes_mellitus          0\n",
      "coronary_artery_disease    0\n",
      "appetite                   0\n",
      "pedal_edema                0\n",
      "anemia                     0\n",
      "target                     0\n",
      "dtype: int64\n"
     ]
    }
   ],
   "source": [
    "print(df.isnull().sum())  # Should show all 0s\n"
   ]
  },
  {
   "cell_type": "code",
   "execution_count": 144,
   "id": "227e9d87-7113-4da6-a8a9-f239f2cc5ad1",
   "metadata": {},
   "outputs": [
    {
     "name": "stderr",
     "output_type": "stream",
     "text": [
      "C:\\Users\\Disha Satpute\\AppData\\Local\\Temp\\ipykernel_12200\\2281560514.py:5: FutureWarning: A value is trying to be set on a copy of a DataFrame or Series through chained assignment using an inplace method.\n",
      "The behavior will change in pandas 3.0. This inplace method will never work because the intermediate object on which we are setting values always behaves as a copy.\n",
      "\n",
      "For example, when doing 'df[col].method(value, inplace=True)', try using 'df.method({col: value}, inplace=True)' or df[col] = df[col].method(value) instead, to perform the operation inplace on the original object.\n",
      "\n",
      "\n",
      "  df[col].fillna(df[col].mean(), inplace=True)       # Fill remaining NaNs with mean\n"
     ]
    }
   ],
   "source": [
    "cols_left = ['packed_cell_volume', 'white_blood_cell_count', 'red_blood_cell_count']\n",
    "\n",
    "for col in cols_left:\n",
    "    df[col] = pd.to_numeric(df[col], errors='coerce')  # Convert to numbers, set invalid ones as NaN\n",
    "    df[col].fillna(df[col].mean(), inplace=True)       # Fill remaining NaNs with mean\n"
   ]
  },
  {
   "cell_type": "code",
   "execution_count": 145,
   "id": "dcfd14d1-38c7-4fdb-9c41-7b5df036a7e4",
   "metadata": {},
   "outputs": [
    {
     "name": "stdout",
     "output_type": "stream",
     "text": [
      "age                        0\n",
      "blood_pressure             0\n",
      "specific_gravity           0\n",
      "albumin                    0\n",
      "sugar                      0\n",
      "red_blood_cells            0\n",
      "pus_cell                   0\n",
      "pus_cell_clumps            0\n",
      "bacteria                   0\n",
      "blood_glucose_random       0\n",
      "blood_urea                 0\n",
      "serum_creatinine           0\n",
      "sodium                     0\n",
      "potassium                  0\n",
      "hemoglobin                 0\n",
      "packed_cell_volume         0\n",
      "white_blood_cell_count     0\n",
      "red_blood_cell_count       0\n",
      "hypertension               0\n",
      "diabetes_mellitus          0\n",
      "coronary_artery_disease    0\n",
      "appetite                   0\n",
      "pedal_edema                0\n",
      "anemia                     0\n",
      "target                     0\n",
      "dtype: int64\n"
     ]
    }
   ],
   "source": [
    "print(df.isnull().sum())  # Should be all zeros!\n"
   ]
  },
  {
   "cell_type": "code",
   "execution_count": 146,
   "id": "96f8ad7f-a529-41b6-874a-ee6eb0f62f17",
   "metadata": {},
   "outputs": [],
   "source": [
    "# label encoder\n",
    "cat_cols = [\n",
    "    'red_blood_cells',\n",
    "    'pus_cell',\n",
    "    'pus_cell_clumps',\n",
    "    'bacteria',\n",
    "    'hypertension',\n",
    "    'diabetes_mellitus',\n",
    "    'coronary_artery_disease',\n",
    "    'appetite',\n",
    "    'pedal_edema',\n",
    "    'anemia'\n",
    "]\n"
   ]
  },
  {
   "cell_type": "code",
   "execution_count": 147,
   "id": "45f6e28d-5830-4d2f-9718-566ffcd75885",
   "metadata": {},
   "outputs": [],
   "source": [
    "from sklearn.preprocessing import LabelEncoder\n",
    "\n",
    "le = LabelEncoder()\n",
    "\n",
    "for col in cat_cols:\n",
    "    df[col] = le.fit_transform(df[col])\n"
   ]
  },
  {
   "cell_type": "code",
   "execution_count": 148,
   "id": "1015f9b4-7325-4cff-8b6f-59892398dfb6",
   "metadata": {},
   "outputs": [
    {
     "name": "stdout",
     "output_type": "stream",
     "text": [
      "age                        float64\n",
      "blood_pressure             float64\n",
      "specific_gravity           float64\n",
      "albumin                    float64\n",
      "sugar                      float64\n",
      "red_blood_cells              int64\n",
      "pus_cell                     int64\n",
      "pus_cell_clumps              int64\n",
      "bacteria                     int64\n",
      "blood_glucose_random       float64\n",
      "blood_urea                 float64\n",
      "serum_creatinine           float64\n",
      "sodium                     float64\n",
      "potassium                  float64\n",
      "hemoglobin                 float64\n",
      "packed_cell_volume         float64\n",
      "white_blood_cell_count     float64\n",
      "red_blood_cell_count       float64\n",
      "hypertension                 int64\n",
      "diabetes_mellitus            int64\n",
      "coronary_artery_disease      int64\n",
      "appetite                     int64\n",
      "pedal_edema                  int64\n",
      "anemia                       int64\n",
      "target                      object\n",
      "dtype: object\n"
     ]
    }
   ],
   "source": [
    "print(df.dtypes)\n"
   ]
  },
  {
   "cell_type": "code",
   "execution_count": 149,
   "id": "08566bb9-e0ef-4fd2-b115-d65dd7700b0c",
   "metadata": {},
   "outputs": [],
   "source": [
    "from sklearn.preprocessing import LabelEncoder\n",
    "\n",
    "le = LabelEncoder()\n",
    "df['target'] = le.fit_transform(df['target'])\n"
   ]
  },
  {
   "cell_type": "code",
   "execution_count": 150,
   "id": "3394850e-90b9-4f92-99e7-5d3f2a8d531c",
   "metadata": {},
   "outputs": [
    {
     "name": "stdout",
     "output_type": "stream",
     "text": [
      "Index([], dtype='object')\n"
     ]
    }
   ],
   "source": [
    "print(df.select_dtypes(include='object').columns)\n"
   ]
  },
  {
   "cell_type": "code",
   "execution_count": 151,
   "id": "414b4f85-8efa-44ff-84bf-84ea09a10da2",
   "metadata": {},
   "outputs": [
    {
     "name": "stdout",
     "output_type": "stream",
     "text": [
      "[0 1 2]\n",
      "int64\n"
     ]
    }
   ],
   "source": [
    "print(df['target'].unique())  # Should print [0 1]\n",
    "print(df.dtypes['target'])    # Should print int64\n"
   ]
  },
  {
   "cell_type": "code",
   "execution_count": 152,
   "id": "819516c3-9ea3-4b56-88af-09da2bb38fbc",
   "metadata": {},
   "outputs": [
    {
     "name": "stdout",
     "output_type": "stream",
     "text": [
      "red_blood_cells -> [1 0]\n",
      "pus_cell -> [1 0]\n",
      "pus_cell_clumps -> [0 1]\n",
      "bacteria -> [0 1]\n",
      "hypertension -> [1 0]\n",
      "diabetes_mellitus -> [1 0]\n",
      "coronary_artery_disease -> [0 1]\n",
      "appetite -> [0 1]\n",
      "pedal_edema -> [0 1]\n",
      "anemia -> [0 1]\n"
     ]
    }
   ],
   "source": [
    "\n",
    "for col in cat_cols:\n",
    "    print(f\"{col} -> {df[col].unique()}\")\n"
   ]
  },
  {
   "cell_type": "code",
   "execution_count": 153,
   "id": "a3ef7743-5258-4066-a07d-05f8a8334eb0",
   "metadata": {},
   "outputs": [
    {
     "name": "stdout",
     "output_type": "stream",
     "text": [
      "diabetes_mellitus\n",
      "0    263\n",
      "1    137\n",
      "Name: count, dtype: int64\n",
      "coronary_artery_disease\n",
      "0    366\n",
      "1     34\n",
      "Name: count, dtype: int64\n"
     ]
    }
   ],
   "source": [
    "#there is problem in 2 columns\n",
    "\n",
    "# View original string values before encoding (re-load data if needed)\n",
    "\n",
    "print(df['diabetes_mellitus'].value_counts())\n",
    "print(df['coronary_artery_disease'].value_counts())\n",
    "#"
   ]
  },
  {
   "cell_type": "code",
   "execution_count": 135,
   "id": "467d5194-d08e-4f20-94e5-e32e8864e490",
   "metadata": {},
   "outputs": [],
   "source": [
    "import pandas as pd\n",
    "\n",
    "df = pd.read_csv('dataset/kidney_disease.csv')\n"
   ]
  },
  {
   "cell_type": "code",
   "execution_count": 136,
   "id": "ad5ae5e2-4369-4db6-8f23-ab5868c98372",
   "metadata": {},
   "outputs": [],
   "source": [
    "df.rename(columns={\n",
    "    'bp': 'blood_pressure',\n",
    "    'sg': 'specific_gravity',\n",
    "    'al': 'albumin',\n",
    "    'su': 'sugar',\n",
    "    'rbc': 'red_blood_cells',\n",
    "    'pc': 'pus_cell',\n",
    "    'pcc': 'pus_cell_clumps',\n",
    "    'ba': 'bacteria',\n",
    "    'bgr': 'blood_glucose_random',\n",
    "    'bu': 'blood_urea',\n",
    "    'sc': 'serum_creatinine',\n",
    "    'sod': 'sodium',\n",
    "    'pot': 'potassium',\n",
    "    'hemo': 'hemoglobin',\n",
    "    'pcv': 'packed_cell_volume',\n",
    "    'wc': 'white_blood_cell_count',\n",
    "    'rc': 'red_blood_cell_count',\n",
    "    'htn': 'hypertension',\n",
    "    'dm': 'diabetes_mellitus',\n",
    "    'cad': 'coronary_artery_disease',\n",
    "    'appet': 'appetite',\n",
    "    'pe': 'pedal_edema',\n",
    "    'ane': 'anemia',\n",
    "    'classification': 'target'\n",
    "}, inplace=True)\n"
   ]
  },
  {
   "cell_type": "code",
   "execution_count": 137,
   "id": "181eab5c-3bd6-4e6c-ae05-3060e6c70d52",
   "metadata": {},
   "outputs": [],
   "source": [
    "# Step 1: Convert to lowercase strings and strip extra characters\n",
    "df['diabetes_mellitus'] = df['diabetes_mellitus'].astype(str).str.lower().str.strip().str.replace(r'[.\\s]', '', regex=True)\n",
    "df['coronary_artery_disease'] = df['coronary_artery_disease'].astype(str).str.lower().str.strip().str.replace(r'[.\\s]', '', regex=True)\n",
    "\n",
    "# Step 2: Map yes/no to 1/0\n",
    "dm_map = {'yes': 1, 'no': 0}\n",
    "cad_map = {'yes': 1, 'no': 0}\n",
    "\n",
    "df['diabetes_mellitus'] = df['diabetes_mellitus'].replace(dm_map)\n",
    "df['coronary_artery_disease'] = df['coronary_artery_disease'].replace(cad_map)\n",
    "\n",
    "# Step 3: Convert to numeric and fill missing values with 0\n",
    "df['diabetes_mellitus'] = pd.to_numeric(df['diabetes_mellitus'], errors='coerce').fillna(0).astype(int)\n",
    "df['coronary_artery_disease'] = pd.to_numeric(df['coronary_artery_disease'], errors='coerce').fillna(0).astype(int)\n"
   ]
  },
  {
   "cell_type": "code",
   "execution_count": 138,
   "id": "cdeba642-6466-4180-937f-e69cc5e818e7",
   "metadata": {},
   "outputs": [
    {
     "name": "stdout",
     "output_type": "stream",
     "text": [
      "[1 0]\n",
      "[0 1]\n"
     ]
    }
   ],
   "source": [
    "print(df['diabetes_mellitus'].unique())         # Should be [0 1]\n",
    "print(df['coronary_artery_disease'].unique())   # Should be [0 1]\n"
   ]
  },
  {
   "cell_type": "code",
   "execution_count": 154,
   "id": "f8f47574-6dc2-472d-b364-1677b4f355f9",
   "metadata": {},
   "outputs": [
    {
     "name": "stdout",
     "output_type": "stream",
     "text": [
      "✅ All values are numeric and cleaned.\n"
     ]
    }
   ],
   "source": [
    "non_numeric_cells = df.apply(lambda col: col.map(lambda x: isinstance(x, str)))\n",
    "\n",
    "if non_numeric_cells.any().any():\n",
    "    print(\"⚠️ Warning: Some string values still exist!\")\n",
    "else:\n",
    "    print(\"✅ All values are numeric and cleaned.\")\n"
   ]
  },
  {
   "cell_type": "code",
   "execution_count": 155,
   "id": "cb5edb12-d81c-4d19-bfdc-fe720bbe4357",
   "metadata": {},
   "outputs": [
    {
     "name": "stdout",
     "output_type": "stream",
     "text": [
      "Index(['age', 'blood_pressure', 'specific_gravity', 'albumin', 'sugar',\n",
      "       'red_blood_cells', 'pus_cell', 'pus_cell_clumps', 'bacteria',\n",
      "       'blood_glucose_random', 'blood_urea', 'serum_creatinine', 'sodium',\n",
      "       'potassium', 'hemoglobin', 'packed_cell_volume',\n",
      "       'white_blood_cell_count', 'red_blood_cell_count', 'hypertension',\n",
      "       'diabetes_mellitus', 'coronary_artery_disease', 'appetite',\n",
      "       'pedal_edema', 'anemia', 'target'],\n",
      "      dtype='object')\n"
     ]
    }
   ],
   "source": [
    "print(df.columns)\n"
   ]
  },
  {
   "cell_type": "code",
   "execution_count": 156,
   "id": "b270d0e7-dd66-48a4-ac17-90a3d693802e",
   "metadata": {},
   "outputs": [
    {
     "name": "stdout",
     "output_type": "stream",
     "text": [
      "Unique values: [0 1 2]\n",
      "\n",
      "Class distribution:\n",
      "target\n",
      "0    248\n",
      "2    150\n",
      "1      2\n",
      "Name: count, dtype: int64\n"
     ]
    }
   ],
   "source": [
    "print(\"Unique values:\", df['target'].unique())\n",
    "print(\"\\nClass distribution:\")\n",
    "print(df['target'].value_counts())\n"
   ]
  },
  {
   "cell_type": "code",
   "execution_count": 157,
   "id": "d35b16e6-defc-4e96-8fe7-1a75cfb522c2",
   "metadata": {},
   "outputs": [
    {
     "name": "stdout",
     "output_type": "stream",
     "text": [
      "target\n",
      "0    248\n",
      "1    150\n",
      "Name: count, dtype: int64\n",
      "[0 1]\n"
     ]
    }
   ],
   "source": [
    "# Treat 2 as 1 (CKD), and drop label 1 (unclear/invalid)\n",
    "df = df[df['target'] != 1]\n",
    "df['target'] = df['target'].replace(2, 1)\n",
    "\n",
    "# Recheck\n",
    "print(df['target'].value_counts())\n",
    "print(df['target'].unique())\n"
   ]
  },
  {
   "cell_type": "code",
   "execution_count": 162,
   "id": "0d3c67a9-0c16-4749-b6ce-41dc0eb439f9",
   "metadata": {},
   "outputs": [],
   "source": [
    "from sklearn.model_selection import train_test_split\n",
    "\n",
    "X = df.drop('target', axis=1)\n",
    "y = df['target']\n",
    "\n",
    "X_train, X_test, y_train, y_test = train_test_split(\n",
    "    X, y, test_size=0.2, random_state=42, stratify=y\n",
    ")\n"
   ]
  },
  {
   "cell_type": "code",
   "execution_count": 163,
   "id": "c008f5fe-3321-4b52-8585-da99830563f4",
   "metadata": {},
   "outputs": [
    {
     "name": "stdout",
     "output_type": "stream",
     "text": [
      "Epoch 1/100\n"
     ]
    },
    {
     "name": "stderr",
     "output_type": "stream",
     "text": [
      "C:\\Users\\Disha Satpute\\AppData\\Local\\Programs\\Python\\Python311\\Lib\\site-packages\\keras\\src\\layers\\core\\dense.py:93: UserWarning: Do not pass an `input_shape`/`input_dim` argument to a layer. When using Sequential models, prefer using an `Input(shape)` object as the first layer in the model instead.\n",
      "  super().__init__(activity_regularizer=activity_regularizer, **kwargs)\n"
     ]
    },
    {
     "name": "stdout",
     "output_type": "stream",
     "text": [
      "\u001b[1m3/3\u001b[0m \u001b[32m━━━━━━━━━━━━━━━━━━━━\u001b[0m\u001b[37m\u001b[0m \u001b[1m3s\u001b[0m 286ms/step - accuracy: 0.3859 - loss: 458.7453 - val_accuracy: 0.3594 - val_loss: 286.8063\n",
      "Epoch 2/100\n",
      "\u001b[1m3/3\u001b[0m \u001b[32m━━━━━━━━━━━━━━━━━━━━\u001b[0m\u001b[37m\u001b[0m \u001b[1m0s\u001b[0m 85ms/step - accuracy: 0.3597 - loss: 238.7066 - val_accuracy: 0.3594 - val_loss: 39.1963\n",
      "Epoch 3/100\n",
      "\u001b[1m3/3\u001b[0m \u001b[32m━━━━━━━━━━━━━━━━━━━━\u001b[0m\u001b[37m\u001b[0m \u001b[1m0s\u001b[0m 85ms/step - accuracy: 0.4704 - loss: 35.4983 - val_accuracy: 0.6406 - val_loss: 71.2246\n",
      "Epoch 4/100\n",
      "\u001b[1m3/3\u001b[0m \u001b[32m━━━━━━━━━━━━━━━━━━━━\u001b[0m\u001b[37m\u001b[0m \u001b[1m0s\u001b[0m 87ms/step - accuracy: 0.6103 - loss: 88.2079 - val_accuracy: 0.6406 - val_loss: 100.7498\n",
      "Epoch 5/100\n",
      "\u001b[1m3/3\u001b[0m \u001b[32m━━━━━━━━━━━━━━━━━━━━\u001b[0m\u001b[37m\u001b[0m \u001b[1m0s\u001b[0m 89ms/step - accuracy: 0.6078 - loss: 114.7514 - val_accuracy: 0.6406 - val_loss: 93.3245\n",
      "Epoch 6/100\n",
      "\u001b[1m3/3\u001b[0m \u001b[32m━━━━━━━━━━━━━━━━━━━━\u001b[0m\u001b[37m\u001b[0m \u001b[1m0s\u001b[0m 81ms/step - accuracy: 0.5928 - loss: 105.6807 - val_accuracy: 0.6406 - val_loss: 61.1615\n",
      "Epoch 7/100\n",
      "\u001b[1m3/3\u001b[0m \u001b[32m━━━━━━━━━━━━━━━━━━━━\u001b[0m\u001b[37m\u001b[0m \u001b[1m0s\u001b[0m 86ms/step - accuracy: 0.6291 - loss: 56.9954 - val_accuracy: 0.6406 - val_loss: 13.6834\n",
      "Epoch 8/100\n",
      "\u001b[1m3/3\u001b[0m \u001b[32m━━━━━━━━━━━━━━━━━━━━\u001b[0m\u001b[37m\u001b[0m \u001b[1m0s\u001b[0m 113ms/step - accuracy: 0.5604 - loss: 14.7736 - val_accuracy: 0.3594 - val_loss: 45.5920\n",
      "Epoch 9/100\n",
      "\u001b[1m3/3\u001b[0m \u001b[32m━━━━━━━━━━━━━━━━━━━━\u001b[0m\u001b[37m\u001b[0m \u001b[1m0s\u001b[0m 98ms/step - accuracy: 0.3759 - loss: 40.3572 - val_accuracy: 0.4062 - val_loss: 5.8429\n",
      "Epoch 10/100\n",
      "\u001b[1m3/3\u001b[0m \u001b[32m━━━━━━━━━━━━━━━━━━━━\u001b[0m\u001b[37m\u001b[0m \u001b[1m0s\u001b[0m 96ms/step - accuracy: 0.4026 - loss: 11.9691 - val_accuracy: 0.6406 - val_loss: 26.6008\n",
      "Epoch 11/100\n",
      "\u001b[1m3/3\u001b[0m \u001b[32m━━━━━━━━━━━━━━━━━━━━\u001b[0m\u001b[37m\u001b[0m \u001b[1m0s\u001b[0m 96ms/step - accuracy: 0.6028 - loss: 31.6398 - val_accuracy: 0.6406 - val_loss: 23.3368\n",
      "Epoch 12/100\n",
      "\u001b[1m3/3\u001b[0m \u001b[32m━━━━━━━━━━━━━━━━━━━━\u001b[0m\u001b[37m\u001b[0m \u001b[1m0s\u001b[0m 104ms/step - accuracy: 0.6303 - loss: 21.0307 - val_accuracy: 0.4219 - val_loss: 4.7205\n",
      "Epoch 13/100\n",
      "\u001b[1m3/3\u001b[0m \u001b[32m━━━━━━━━━━━━━━━━━━━━\u001b[0m\u001b[37m\u001b[0m \u001b[1m0s\u001b[0m 92ms/step - accuracy: 0.3904 - loss: 9.2958 - val_accuracy: 0.3906 - val_loss: 6.8564\n",
      "Epoch 14/100\n",
      "\u001b[1m3/3\u001b[0m \u001b[32m━━━━━━━━━━━━━━━━━━━━\u001b[0m\u001b[37m\u001b[0m \u001b[1m0s\u001b[0m 89ms/step - accuracy: 0.4661 - loss: 8.7610 - val_accuracy: 0.6406 - val_loss: 14.3591\n",
      "Epoch 15/100\n",
      "\u001b[1m3/3\u001b[0m \u001b[32m━━━━━━━━━━━━━━━━━━━━\u001b[0m\u001b[37m\u001b[0m \u001b[1m0s\u001b[0m 89ms/step - accuracy: 0.6271 - loss: 14.6300 - val_accuracy: 0.5469 - val_loss: 2.9855\n",
      "Epoch 16/100\n",
      "\u001b[1m3/3\u001b[0m \u001b[32m━━━━━━━━━━━━━━━━━━━━\u001b[0m\u001b[37m\u001b[0m \u001b[1m0s\u001b[0m 89ms/step - accuracy: 0.4933 - loss: 7.4402 - val_accuracy: 0.3750 - val_loss: 8.1847\n",
      "Epoch 17/100\n",
      "\u001b[1m3/3\u001b[0m \u001b[32m━━━━━━━━━━━━━━━━━━━━\u001b[0m\u001b[37m\u001b[0m \u001b[1m0s\u001b[0m 86ms/step - accuracy: 0.4586 - loss: 7.6828 - val_accuracy: 0.6406 - val_loss: 12.2028\n",
      "Epoch 18/100\n",
      "\u001b[1m3/3\u001b[0m \u001b[32m━━━━━━━━━━━━━━━━━━━━\u001b[0m\u001b[37m\u001b[0m \u001b[1m0s\u001b[0m 91ms/step - accuracy: 0.6006 - loss: 13.0205 - val_accuracy: 0.5000 - val_loss: 2.4692\n",
      "Epoch 19/100\n",
      "\u001b[1m3/3\u001b[0m \u001b[32m━━━━━━━━━━━━━━━━━━━━\u001b[0m\u001b[37m\u001b[0m \u001b[1m0s\u001b[0m 109ms/step - accuracy: 0.4871 - loss: 5.1571 - val_accuracy: 0.5000 - val_loss: 2.3997\n",
      "Epoch 20/100\n",
      "\u001b[1m3/3\u001b[0m \u001b[32m━━━━━━━━━━━━━━━━━━━━\u001b[0m\u001b[37m\u001b[0m \u001b[1m0s\u001b[0m 96ms/step - accuracy: 0.5313 - loss: 4.1058 - val_accuracy: 0.6250 - val_loss: 4.4285\n",
      "Epoch 21/100\n",
      "\u001b[1m3/3\u001b[0m \u001b[32m━━━━━━━━━━━━━━━━━━━━\u001b[0m\u001b[37m\u001b[0m \u001b[1m0s\u001b[0m 84ms/step - accuracy: 0.5293 - loss: 3.9154 - val_accuracy: 0.4375 - val_loss: 4.0402\n",
      "Epoch 22/100\n",
      "\u001b[1m3/3\u001b[0m \u001b[32m━━━━━━━━━━━━━━━━━━━━\u001b[0m\u001b[37m\u001b[0m \u001b[1m0s\u001b[0m 85ms/step - accuracy: 0.5613 - loss: 3.7649 - val_accuracy: 0.6406 - val_loss: 4.3928\n",
      "Epoch 23/100\n",
      "\u001b[1m3/3\u001b[0m \u001b[32m━━━━━━━━━━━━━━━━━━━━\u001b[0m\u001b[37m\u001b[0m \u001b[1m0s\u001b[0m 95ms/step - accuracy: 0.6233 - loss: 3.7426 - val_accuracy: 0.4219 - val_loss: 4.5759\n",
      "Epoch 24/100\n",
      "\u001b[1m3/3\u001b[0m \u001b[32m━━━━━━━━━━━━━━━━━━━━\u001b[0m\u001b[37m\u001b[0m \u001b[1m0s\u001b[0m 84ms/step - accuracy: 0.4777 - loss: 4.2367 - val_accuracy: 0.5781 - val_loss: 3.0117\n",
      "Epoch 25/100\n",
      "\u001b[1m3/3\u001b[0m \u001b[32m━━━━━━━━━━━━━━━━━━━━\u001b[0m\u001b[37m\u001b[0m \u001b[1m0s\u001b[0m 93ms/step - accuracy: 0.5615 - loss: 3.0558 - val_accuracy: 0.5625 - val_loss: 1.9699\n",
      "Epoch 26/100\n",
      "\u001b[1m3/3\u001b[0m \u001b[32m━━━━━━━━━━━━━━━━━━━━\u001b[0m\u001b[37m\u001b[0m \u001b[1m0s\u001b[0m 105ms/step - accuracy: 0.5510 - loss: 2.5791 - val_accuracy: 0.4531 - val_loss: 3.3949\n",
      "Epoch 27/100\n",
      "\u001b[1m3/3\u001b[0m \u001b[32m━━━━━━━━━━━━━━━━━━━━\u001b[0m\u001b[37m\u001b[0m \u001b[1m0s\u001b[0m 92ms/step - accuracy: 0.5134 - loss: 3.0051 - val_accuracy: 0.6406 - val_loss: 3.7154\n",
      "Epoch 28/100\n",
      "\u001b[1m3/3\u001b[0m \u001b[32m━━━━━━━━━━━━━━━━━━━━\u001b[0m\u001b[37m\u001b[0m \u001b[1m0s\u001b[0m 118ms/step - accuracy: 0.6442 - loss: 3.0667 - val_accuracy: 0.4219 - val_loss: 5.0835\n",
      "Epoch 29/100\n",
      "\u001b[1m3/3\u001b[0m \u001b[32m━━━━━━━━━━━━━━━━━━━━\u001b[0m\u001b[37m\u001b[0m \u001b[1m0s\u001b[0m 122ms/step - accuracy: 0.5263 - loss: 3.7235 - val_accuracy: 0.5938 - val_loss: 1.9665\n",
      "Epoch 30/100\n",
      "\u001b[1m3/3\u001b[0m \u001b[32m━━━━━━━━━━━━━━━━━━━━\u001b[0m\u001b[37m\u001b[0m \u001b[1m0s\u001b[0m 89ms/step - accuracy: 0.5688 - loss: 2.4987 - val_accuracy: 0.6250 - val_loss: 2.8230\n",
      "Epoch 31/100\n",
      "\u001b[1m3/3\u001b[0m \u001b[32m━━━━━━━━━━━━━━━━━━━━\u001b[0m\u001b[37m\u001b[0m \u001b[1m0s\u001b[0m 85ms/step - accuracy: 0.6155 - loss: 3.2694 - val_accuracy: 0.4375 - val_loss: 4.0080\n",
      "Epoch 32/100\n",
      "\u001b[1m3/3\u001b[0m \u001b[32m━━━━━━━━━━━━━━━━━━━━\u001b[0m\u001b[37m\u001b[0m \u001b[1m0s\u001b[0m 86ms/step - accuracy: 0.5054 - loss: 3.2375 - val_accuracy: 0.6562 - val_loss: 3.4892\n",
      "Epoch 33/100\n",
      "\u001b[1m3/3\u001b[0m \u001b[32m━━━━━━━━━━━━━━━━━━━━\u001b[0m\u001b[37m\u001b[0m \u001b[1m0s\u001b[0m 84ms/step - accuracy: 0.5888 - loss: 3.1471 - val_accuracy: 0.4531 - val_loss: 3.5762\n",
      "Epoch 34/100\n",
      "\u001b[1m3/3\u001b[0m \u001b[32m━━━━━━━━━━━━━━━━━━━━\u001b[0m\u001b[37m\u001b[0m \u001b[1m0s\u001b[0m 94ms/step - accuracy: 0.5892 - loss: 3.3301 - val_accuracy: 0.6562 - val_loss: 3.7876\n",
      "Epoch 35/100\n",
      "\u001b[1m3/3\u001b[0m \u001b[32m━━━━━━━━━━━━━━━━━━━━\u001b[0m\u001b[37m\u001b[0m \u001b[1m0s\u001b[0m 93ms/step - accuracy: 0.5420 - loss: 4.1008 - val_accuracy: 0.6094 - val_loss: 1.4671\n",
      "Epoch 36/100\n",
      "\u001b[1m3/3\u001b[0m \u001b[32m━━━━━━━━━━━━━━━━━━━━\u001b[0m\u001b[37m\u001b[0m \u001b[1m0s\u001b[0m 86ms/step - accuracy: 0.6319 - loss: 2.0825 - val_accuracy: 0.4375 - val_loss: 4.1659\n",
      "Epoch 37/100\n",
      "\u001b[1m3/3\u001b[0m \u001b[32m━━━━━━━━━━━━━━━━━━━━\u001b[0m\u001b[37m\u001b[0m \u001b[1m0s\u001b[0m 78ms/step - accuracy: 0.5315 - loss: 3.2294 - val_accuracy: 0.6406 - val_loss: 4.1072\n",
      "Epoch 38/100\n",
      "\u001b[1m3/3\u001b[0m \u001b[32m━━━━━━━━━━━━━━━━━━━━\u001b[0m\u001b[37m\u001b[0m \u001b[1m0s\u001b[0m 100ms/step - accuracy: 0.5712 - loss: 4.1271 - val_accuracy: 0.5469 - val_loss: 2.5797\n",
      "Epoch 39/100\n",
      "\u001b[1m3/3\u001b[0m \u001b[32m━━━━━━━━━━━━━━━━━━━━\u001b[0m\u001b[37m\u001b[0m \u001b[1m0s\u001b[0m 106ms/step - accuracy: 0.6230 - loss: 2.2229 - val_accuracy: 0.6250 - val_loss: 1.1928\n",
      "Epoch 40/100\n",
      "\u001b[1m3/3\u001b[0m \u001b[32m━━━━━━━━━━━━━━━━━━━━\u001b[0m\u001b[37m\u001b[0m \u001b[1m0s\u001b[0m 104ms/step - accuracy: 0.6238 - loss: 2.1297 - val_accuracy: 0.6406 - val_loss: 3.8007\n",
      "Epoch 41/100\n",
      "\u001b[1m3/3\u001b[0m \u001b[32m━━━━━━━━━━━━━━━━━━━━\u001b[0m\u001b[37m\u001b[0m \u001b[1m0s\u001b[0m 91ms/step - accuracy: 0.6485 - loss: 5.5530 - val_accuracy: 0.6562 - val_loss: 2.2905\n",
      "Epoch 42/100\n",
      "\u001b[1m3/3\u001b[0m \u001b[32m━━━━━━━━━━━━━━━━━━━━\u001b[0m\u001b[37m\u001b[0m \u001b[1m0s\u001b[0m 108ms/step - accuracy: 0.5291 - loss: 4.9915 - val_accuracy: 0.6406 - val_loss: 1.2066\n",
      "Epoch 43/100\n",
      "\u001b[1m3/3\u001b[0m \u001b[32m━━━━━━━━━━━━━━━━━━━━\u001b[0m\u001b[37m\u001b[0m \u001b[1m0s\u001b[0m 86ms/step - accuracy: 0.6809 - loss: 2.5418 - val_accuracy: 0.6406 - val_loss: 4.7679\n",
      "Epoch 44/100\n",
      "\u001b[1m3/3\u001b[0m \u001b[32m━━━━━━━━━━━━━━━━━━━━\u001b[0m\u001b[37m\u001b[0m \u001b[1m0s\u001b[0m 88ms/step - accuracy: 0.6598 - loss: 3.7203 - val_accuracy: 0.3750 - val_loss: 7.8165\n",
      "Epoch 45/100\n",
      "\u001b[1m3/3\u001b[0m \u001b[32m━━━━━━━━━━━━━━━━━━━━\u001b[0m\u001b[37m\u001b[0m \u001b[1m0s\u001b[0m 112ms/step - accuracy: 0.5705 - loss: 4.4280 - val_accuracy: 0.6406 - val_loss: 5.9769\n",
      "Epoch 46/100\n",
      "\u001b[1m3/3\u001b[0m \u001b[32m━━━━━━━━━━━━━━━━━━━━\u001b[0m\u001b[37m\u001b[0m \u001b[1m0s\u001b[0m 96ms/step - accuracy: 0.6344 - loss: 5.1973 - val_accuracy: 0.4375 - val_loss: 5.4670\n",
      "Epoch 47/100\n",
      "\u001b[1m3/3\u001b[0m \u001b[32m━━━━━━━━━━━━━━━━━━━━\u001b[0m\u001b[37m\u001b[0m \u001b[1m0s\u001b[0m 88ms/step - accuracy: 0.5667 - loss: 3.5757 - val_accuracy: 0.6406 - val_loss: 5.0183\n",
      "Epoch 48/100\n",
      "\u001b[1m3/3\u001b[0m \u001b[32m━━━━━━━━━━━━━━━━━━━━\u001b[0m\u001b[37m\u001b[0m \u001b[1m0s\u001b[0m 125ms/step - accuracy: 0.6603 - loss: 4.0350 - val_accuracy: 0.3750 - val_loss: 8.0431\n",
      "Epoch 49/100\n",
      "\u001b[1m3/3\u001b[0m \u001b[32m━━━━━━━━━━━━━━━━━━━━\u001b[0m\u001b[37m\u001b[0m \u001b[1m0s\u001b[0m 97ms/step - accuracy: 0.4598 - loss: 6.1934 - val_accuracy: 0.6406 - val_loss: 4.1245\n",
      "Epoch 50/100\n",
      "\u001b[1m3/3\u001b[0m \u001b[32m━━━━━━━━━━━━━━━━━━━━\u001b[0m\u001b[37m\u001b[0m \u001b[1m0s\u001b[0m 96ms/step - accuracy: 0.6014 - loss: 3.9733 - val_accuracy: 0.5469 - val_loss: 2.6199\n",
      "Epoch 51/100\n",
      "\u001b[1m3/3\u001b[0m \u001b[32m━━━━━━━━━━━━━━━━━━━━\u001b[0m\u001b[37m\u001b[0m \u001b[1m0s\u001b[0m 85ms/step - accuracy: 0.6053 - loss: 1.8213 - val_accuracy: 0.6406 - val_loss: 1.2029\n",
      "Epoch 52/100\n",
      "\u001b[1m3/3\u001b[0m \u001b[32m━━━━━━━━━━━━━━━━━━━━\u001b[0m\u001b[37m\u001b[0m \u001b[1m0s\u001b[0m 86ms/step - accuracy: 0.6761 - loss: 0.9567 - val_accuracy: 0.6562 - val_loss: 1.0199\n",
      "Epoch 53/100\n",
      "\u001b[1m3/3\u001b[0m \u001b[32m━━━━━━━━━━━━━━━━━━━━\u001b[0m\u001b[37m\u001b[0m \u001b[1m0s\u001b[0m 92ms/step - accuracy: 0.6455 - loss: 1.1429 - val_accuracy: 0.6562 - val_loss: 1.5010\n",
      "Epoch 54/100\n",
      "\u001b[1m3/3\u001b[0m \u001b[32m━━━━━━━━━━━━━━━━━━━━\u001b[0m\u001b[37m\u001b[0m \u001b[1m0s\u001b[0m 91ms/step - accuracy: 0.7018 - loss: 1.2754 - val_accuracy: 0.5312 - val_loss: 3.1963\n",
      "Epoch 55/100\n",
      "\u001b[1m3/3\u001b[0m \u001b[32m━━━━━━━━━━━━━━━━━━━━\u001b[0m\u001b[37m\u001b[0m \u001b[1m0s\u001b[0m 85ms/step - accuracy: 0.6400 - loss: 1.7995 - val_accuracy: 0.6406 - val_loss: 1.1345\n",
      "Epoch 56/100\n",
      "\u001b[1m3/3\u001b[0m \u001b[32m━━━━━━━━━━━━━━━━━━━━\u001b[0m\u001b[37m\u001b[0m \u001b[1m0s\u001b[0m 85ms/step - accuracy: 0.6763 - loss: 1.1778 - val_accuracy: 0.6719 - val_loss: 1.2666\n",
      "Epoch 57/100\n",
      "\u001b[1m3/3\u001b[0m \u001b[32m━━━━━━━━━━━━━━━━━━━━\u001b[0m\u001b[37m\u001b[0m \u001b[1m0s\u001b[0m 98ms/step - accuracy: 0.7008 - loss: 1.1378 - val_accuracy: 0.6250 - val_loss: 1.1824\n",
      "Epoch 58/100\n",
      "\u001b[1m3/3\u001b[0m \u001b[32m━━━━━━━━━━━━━━━━━━━━\u001b[0m\u001b[37m\u001b[0m \u001b[1m0s\u001b[0m 96ms/step - accuracy: 0.6575 - loss: 1.1930 - val_accuracy: 0.5469 - val_loss: 2.4213\n",
      "Epoch 59/100\n",
      "\u001b[1m3/3\u001b[0m \u001b[32m━━━━━━━━━━━━━━━━━━━━\u001b[0m\u001b[37m\u001b[0m \u001b[1m0s\u001b[0m 101ms/step - accuracy: 0.6525 - loss: 1.6908 - val_accuracy: 0.6562 - val_loss: 2.3767\n",
      "Epoch 60/100\n",
      "\u001b[1m3/3\u001b[0m \u001b[32m━━━━━━━━━━━━━━━━━━━━\u001b[0m\u001b[37m\u001b[0m \u001b[1m0s\u001b[0m 96ms/step - accuracy: 0.6570 - loss: 1.8885 - val_accuracy: 0.7188 - val_loss: 0.7442\n",
      "Epoch 61/100\n",
      "\u001b[1m3/3\u001b[0m \u001b[32m━━━━━━━━━━━━━━━━━━━━\u001b[0m\u001b[37m\u001b[0m \u001b[1m0s\u001b[0m 91ms/step - accuracy: 0.7454 - loss: 1.0386 - val_accuracy: 0.6250 - val_loss: 1.5444\n",
      "Epoch 62/100\n",
      "\u001b[1m3/3\u001b[0m \u001b[32m━━━━━━━━━━━━━━━━━━━━\u001b[0m\u001b[37m\u001b[0m \u001b[1m0s\u001b[0m 88ms/step - accuracy: 0.6854 - loss: 1.1785 - val_accuracy: 0.7656 - val_loss: 0.7181\n",
      "Epoch 63/100\n",
      "\u001b[1m3/3\u001b[0m \u001b[32m━━━━━━━━━━━━━━━━━━━━\u001b[0m\u001b[37m\u001b[0m \u001b[1m0s\u001b[0m 88ms/step - accuracy: 0.6820 - loss: 0.9735 - val_accuracy: 0.6719 - val_loss: 0.9773\n",
      "Epoch 64/100\n",
      "\u001b[1m3/3\u001b[0m \u001b[32m━━━━━━━━━━━━━━━━━━━━\u001b[0m\u001b[37m\u001b[0m \u001b[1m0s\u001b[0m 87ms/step - accuracy: 0.7265 - loss: 0.7961 - val_accuracy: 0.7656 - val_loss: 0.7035\n",
      "Epoch 65/100\n",
      "\u001b[1m3/3\u001b[0m \u001b[32m━━━━━━━━━━━━━━━━━━━━\u001b[0m\u001b[37m\u001b[0m \u001b[1m0s\u001b[0m 91ms/step - accuracy: 0.7220 - loss: 0.6619 - val_accuracy: 0.7031 - val_loss: 0.8254\n",
      "Epoch 66/100\n",
      "\u001b[1m3/3\u001b[0m \u001b[32m━━━━━━━━━━━━━━━━━━━━\u001b[0m\u001b[37m\u001b[0m \u001b[1m0s\u001b[0m 84ms/step - accuracy: 0.7174 - loss: 0.9152 - val_accuracy: 0.5469 - val_loss: 2.5167\n",
      "Epoch 67/100\n",
      "\u001b[1m3/3\u001b[0m \u001b[32m━━━━━━━━━━━━━━━━━━━━\u001b[0m\u001b[37m\u001b[0m \u001b[1m0s\u001b[0m 90ms/step - accuracy: 0.6902 - loss: 1.6396 - val_accuracy: 0.6562 - val_loss: 1.6328\n",
      "Epoch 68/100\n",
      "\u001b[1m3/3\u001b[0m \u001b[32m━━━━━━━━━━━━━━━━━━━━\u001b[0m\u001b[37m\u001b[0m \u001b[1m0s\u001b[0m 88ms/step - accuracy: 0.6654 - loss: 1.5925 - val_accuracy: 0.6562 - val_loss: 1.5553\n",
      "Epoch 69/100\n",
      "\u001b[1m3/3\u001b[0m \u001b[32m━━━━━━━━━━━━━━━━━━━━\u001b[0m\u001b[37m\u001b[0m \u001b[1m0s\u001b[0m 97ms/step - accuracy: 0.6455 - loss: 1.5852 - val_accuracy: 0.7656 - val_loss: 0.6380\n",
      "Epoch 70/100\n",
      "\u001b[1m3/3\u001b[0m \u001b[32m━━━━━━━━━━━━━━━━━━━━\u001b[0m\u001b[37m\u001b[0m \u001b[1m0s\u001b[0m 96ms/step - accuracy: 0.7006 - loss: 1.0527 - val_accuracy: 0.5312 - val_loss: 3.0282\n",
      "Epoch 71/100\n",
      "\u001b[1m3/3\u001b[0m \u001b[32m━━━━━━━━━━━━━━━━━━━━\u001b[0m\u001b[37m\u001b[0m \u001b[1m0s\u001b[0m 94ms/step - accuracy: 0.6362 - loss: 2.0525 - val_accuracy: 0.6562 - val_loss: 1.9857\n",
      "Epoch 72/100\n",
      "\u001b[1m3/3\u001b[0m \u001b[32m━━━━━━━━━━━━━━━━━━━━\u001b[0m\u001b[37m\u001b[0m \u001b[1m0s\u001b[0m 94ms/step - accuracy: 0.7217 - loss: 1.4180 - val_accuracy: 0.7812 - val_loss: 0.6081\n",
      "Epoch 73/100\n",
      "\u001b[1m3/3\u001b[0m \u001b[32m━━━━━━━━━━━━━━━━━━━━\u001b[0m\u001b[37m\u001b[0m \u001b[1m0s\u001b[0m 109ms/step - accuracy: 0.7300 - loss: 1.2181 - val_accuracy: 0.5312 - val_loss: 2.9829\n",
      "Epoch 74/100\n",
      "\u001b[1m3/3\u001b[0m \u001b[32m━━━━━━━━━━━━━━━━━━━━\u001b[0m\u001b[37m\u001b[0m \u001b[1m0s\u001b[0m 83ms/step - accuracy: 0.6211 - loss: 2.1281 - val_accuracy: 0.6562 - val_loss: 1.5626\n",
      "Epoch 75/100\n",
      "\u001b[1m3/3\u001b[0m \u001b[32m━━━━━━━━━━━━━━━━━━━━\u001b[0m\u001b[37m\u001b[0m \u001b[1m0s\u001b[0m 83ms/step - accuracy: 0.7235 - loss: 1.2097 - val_accuracy: 0.6875 - val_loss: 0.8603\n",
      "Epoch 76/100\n",
      "\u001b[1m3/3\u001b[0m \u001b[32m━━━━━━━━━━━━━━━━━━━━\u001b[0m\u001b[37m\u001b[0m \u001b[1m0s\u001b[0m 94ms/step - accuracy: 0.7188 - loss: 0.9378 - val_accuracy: 0.6094 - val_loss: 1.2762\n",
      "Epoch 77/100\n",
      "\u001b[1m3/3\u001b[0m \u001b[32m━━━━━━━━━━━━━━━━━━━━\u001b[0m\u001b[37m\u001b[0m \u001b[1m0s\u001b[0m 93ms/step - accuracy: 0.7163 - loss: 0.9452 - val_accuracy: 0.7031 - val_loss: 0.7531\n",
      "Epoch 78/100\n",
      "\u001b[1m3/3\u001b[0m \u001b[32m━━━━━━━━━━━━━━━━━━━━\u001b[0m\u001b[37m\u001b[0m \u001b[1m0s\u001b[0m 81ms/step - accuracy: 0.7667 - loss: 0.8445 - val_accuracy: 0.7969 - val_loss: 0.5490\n",
      "Epoch 79/100\n",
      "\u001b[1m3/3\u001b[0m \u001b[32m━━━━━━━━━━━━━━━━━━━━\u001b[0m\u001b[37m\u001b[0m \u001b[1m0s\u001b[0m 99ms/step - accuracy: 0.7649 - loss: 0.7880 - val_accuracy: 0.6719 - val_loss: 0.9130\n",
      "Epoch 80/100\n",
      "\u001b[1m3/3\u001b[0m \u001b[32m━━━━━━━━━━━━━━━━━━━━\u001b[0m\u001b[37m\u001b[0m \u001b[1m0s\u001b[0m 100ms/step - accuracy: 0.7228 - loss: 0.8138 - val_accuracy: 0.7969 - val_loss: 0.5341\n",
      "Epoch 81/100\n",
      "\u001b[1m3/3\u001b[0m \u001b[32m━━━━━━━━━━━━━━━━━━━━\u001b[0m\u001b[37m\u001b[0m \u001b[1m0s\u001b[0m 100ms/step - accuracy: 0.7835 - loss: 0.5354 - val_accuracy: 0.7344 - val_loss: 0.6717\n",
      "Epoch 82/100\n",
      "\u001b[1m3/3\u001b[0m \u001b[32m━━━━━━━━━━━━━━━━━━━━\u001b[0m\u001b[37m\u001b[0m \u001b[1m0s\u001b[0m 83ms/step - accuracy: 0.7458 - loss: 0.7685 - val_accuracy: 0.6250 - val_loss: 1.0882\n",
      "Epoch 83/100\n",
      "\u001b[1m3/3\u001b[0m \u001b[32m━━━━━━━━━━━━━━━━━━━━\u001b[0m\u001b[37m\u001b[0m \u001b[1m0s\u001b[0m 94ms/step - accuracy: 0.7812 - loss: 0.7784 - val_accuracy: 0.8125 - val_loss: 0.5154\n",
      "Epoch 84/100\n",
      "\u001b[1m3/3\u001b[0m \u001b[32m━━━━━━━━━━━━━━━━━━━━\u001b[0m\u001b[37m\u001b[0m \u001b[1m0s\u001b[0m 88ms/step - accuracy: 0.7717 - loss: 0.7338 - val_accuracy: 0.7031 - val_loss: 0.7925\n",
      "Epoch 85/100\n",
      "\u001b[1m3/3\u001b[0m \u001b[32m━━━━━━━━━━━━━━━━━━━━\u001b[0m\u001b[37m\u001b[0m \u001b[1m0s\u001b[0m 106ms/step - accuracy: 0.7519 - loss: 0.6958 - val_accuracy: 0.7656 - val_loss: 0.6279\n",
      "Epoch 86/100\n",
      "\u001b[1m3/3\u001b[0m \u001b[32m━━━━━━━━━━━━━━━━━━━━\u001b[0m\u001b[37m\u001b[0m \u001b[1m0s\u001b[0m 96ms/step - accuracy: 0.7272 - loss: 0.6707 - val_accuracy: 0.7969 - val_loss: 0.5398\n",
      "Epoch 87/100\n",
      "\u001b[1m3/3\u001b[0m \u001b[32m━━━━━━━━━━━━━━━━━━━━\u001b[0m\u001b[37m\u001b[0m \u001b[1m0s\u001b[0m 95ms/step - accuracy: 0.7623 - loss: 0.5538 - val_accuracy: 0.7188 - val_loss: 0.6987\n",
      "Epoch 88/100\n",
      "\u001b[1m3/3\u001b[0m \u001b[32m━━━━━━━━━━━━━━━━━━━━\u001b[0m\u001b[37m\u001b[0m \u001b[1m0s\u001b[0m 83ms/step - accuracy: 0.7158 - loss: 0.6644 - val_accuracy: 0.8125 - val_loss: 0.5337\n",
      "Epoch 89/100\n",
      "\u001b[1m3/3\u001b[0m \u001b[32m━━━━━━━━━━━━━━━━━━━━\u001b[0m\u001b[37m\u001b[0m \u001b[1m0s\u001b[0m 96ms/step - accuracy: 0.7821 - loss: 0.8100 - val_accuracy: 0.7969 - val_loss: 0.5535\n",
      "Epoch 90/100\n",
      "\u001b[1m3/3\u001b[0m \u001b[32m━━━━━━━━━━━━━━━━━━━━\u001b[0m\u001b[37m\u001b[0m \u001b[1m0s\u001b[0m 111ms/step - accuracy: 0.7724 - loss: 0.6168 - val_accuracy: 0.6406 - val_loss: 0.9441\n",
      "Epoch 91/100\n",
      "\u001b[1m3/3\u001b[0m \u001b[32m━━━━━━━━━━━━━━━━━━━━\u001b[0m\u001b[37m\u001b[0m \u001b[1m0s\u001b[0m 91ms/step - accuracy: 0.7143 - loss: 1.0396 - val_accuracy: 0.5469 - val_loss: 2.7229\n",
      "Epoch 92/100\n",
      "\u001b[1m3/3\u001b[0m \u001b[32m━━━━━━━━━━━━━━━━━━━━\u001b[0m\u001b[37m\u001b[0m \u001b[1m0s\u001b[0m 93ms/step - accuracy: 0.6590 - loss: 2.0772 - val_accuracy: 0.6406 - val_loss: 1.7281\n",
      "Epoch 93/100\n",
      "\u001b[1m3/3\u001b[0m \u001b[32m━━━━━━━━━━━━━━━━━━━━\u001b[0m\u001b[37m\u001b[0m \u001b[1m0s\u001b[0m 93ms/step - accuracy: 0.6974 - loss: 1.2322 - val_accuracy: 0.7031 - val_loss: 1.0899\n",
      "Epoch 94/100\n",
      "\u001b[1m3/3\u001b[0m \u001b[32m━━━━━━━━━━━━━━━━━━━━\u001b[0m\u001b[37m\u001b[0m \u001b[1m0s\u001b[0m 89ms/step - accuracy: 0.7186 - loss: 1.0423 - val_accuracy: 0.7969 - val_loss: 0.5379\n",
      "Epoch 95/100\n",
      "\u001b[1m3/3\u001b[0m \u001b[32m━━━━━━━━━━━━━━━━━━━━\u001b[0m\u001b[37m\u001b[0m \u001b[1m0s\u001b[0m 90ms/step - accuracy: 0.7915 - loss: 0.7830 - val_accuracy: 0.6094 - val_loss: 1.3442\n",
      "Epoch 96/100\n",
      "\u001b[1m3/3\u001b[0m \u001b[32m━━━━━━━━━━━━━━━━━━━━\u001b[0m\u001b[37m\u001b[0m \u001b[1m0s\u001b[0m 91ms/step - accuracy: 0.7297 - loss: 1.0510 - val_accuracy: 0.7188 - val_loss: 0.8077\n",
      "Epoch 97/100\n",
      "\u001b[1m3/3\u001b[0m \u001b[32m━━━━━━━━━━━━━━━━━━━━\u001b[0m\u001b[37m\u001b[0m \u001b[1m0s\u001b[0m 86ms/step - accuracy: 0.6966 - loss: 1.1095 - val_accuracy: 0.6406 - val_loss: 1.7534\n",
      "Epoch 98/100\n",
      "\u001b[1m3/3\u001b[0m \u001b[32m━━━━━━━━━━━━━━━━━━━━\u001b[0m\u001b[37m\u001b[0m \u001b[1m0s\u001b[0m 94ms/step - accuracy: 0.6983 - loss: 1.5102 - val_accuracy: 0.5625 - val_loss: 2.7213\n",
      "Epoch 99/100\n",
      "\u001b[1m3/3\u001b[0m \u001b[32m━━━━━━━━━━━━━━━━━━━━\u001b[0m\u001b[37m\u001b[0m \u001b[1m0s\u001b[0m 101ms/step - accuracy: 0.6398 - loss: 2.1557 - val_accuracy: 0.8281 - val_loss: 0.4220\n",
      "Epoch 100/100\n",
      "\u001b[1m3/3\u001b[0m \u001b[32m━━━━━━━━━━━━━━━━━━━━\u001b[0m\u001b[37m\u001b[0m \u001b[1m0s\u001b[0m 102ms/step - accuracy: 0.8067 - loss: 0.7571 - val_accuracy: 0.6406 - val_loss: 2.1203\n"
     ]
    }
   ],
   "source": [
    "from keras.models import Sequential\n",
    "from keras.layers import Dense\n",
    "\n",
    "ann_model = Sequential()\n",
    "ann_model.add(Dense(units=32, activation='relu', input_dim=X_train.shape[1]))\n",
    "ann_model.add(Dense(units=16, activation='relu'))\n",
    "ann_model.add(Dense(units=1, activation='sigmoid'))  # Binary classification\n",
    "\n",
    "ann_model.compile(optimizer='adam', loss='binary_crossentropy', metrics=['accuracy'])\n",
    "\n",
    "history = ann_model.fit(\n",
    "    X_train, y_train,\n",
    "    batch_size=100,\n",
    "    epochs=100,\n",
    "    validation_split=0.2,\n",
    "    verbose=1\n",
    ")\n"
   ]
  },
  {
   "cell_type": "code",
   "execution_count": 164,
   "id": "bc9d1b9d-15a7-4535-b0ab-8b8e66ceed5f",
   "metadata": {},
   "outputs": [
    {
     "name": "stdout",
     "output_type": "stream",
     "text": [
      "\u001b[1m1/3\u001b[0m \u001b[32m━━━━━━\u001b[0m\u001b[37m━━━━━━━━━━━━━━\u001b[0m \u001b[1m0s\u001b[0m 138ms/stepWARNING:tensorflow:5 out of the last 13 calls to <function TensorFlowTrainer.make_predict_function.<locals>.one_step_on_data_distributed at 0x00000252DB0DD1C0> triggered tf.function retracing. Tracing is expensive and the excessive number of tracings could be due to (1) creating @tf.function repeatedly in a loop, (2) passing tensors with different shapes, (3) passing Python objects instead of tensors. For (1), please define your @tf.function outside of the loop. For (2), @tf.function has reduce_retracing=True option that can avoid unnecessary retracing. For (3), please refer to https://www.tensorflow.org/guide/function#controlling_retracing and https://www.tensorflow.org/api_docs/python/tf/function for  more details.\n"
     ]
    },
    {
     "name": "stderr",
     "output_type": "stream",
     "text": [
      "WARNING:tensorflow:5 out of the last 13 calls to <function TensorFlowTrainer.make_predict_function.<locals>.one_step_on_data_distributed at 0x00000252DB0DD1C0> triggered tf.function retracing. Tracing is expensive and the excessive number of tracings could be due to (1) creating @tf.function repeatedly in a loop, (2) passing tensors with different shapes, (3) passing Python objects instead of tensors. For (1), please define your @tf.function outside of the loop. For (2), @tf.function has reduce_retracing=True option that can avoid unnecessary retracing. For (3), please refer to https://www.tensorflow.org/guide/function#controlling_retracing and https://www.tensorflow.org/api_docs/python/tf/function for  more details.\n"
     ]
    },
    {
     "name": "stdout",
     "output_type": "stream",
     "text": [
      "\u001b[1m3/3\u001b[0m \u001b[32m━━━━━━━━━━━━━━━━━━━━\u001b[0m\u001b[37m\u001b[0m \u001b[1m0s\u001b[0m 66ms/step\n",
      "✅ Accuracy: 0.65\n",
      "\n",
      "📊 Confusion Matrix:\n",
      "[[50  0]\n",
      " [28  2]]\n",
      "\n",
      "📝 Classification Report:\n",
      "              precision    recall  f1-score   support\n",
      "\n",
      "           0       0.64      1.00      0.78        50\n",
      "           1       1.00      0.07      0.12        30\n",
      "\n",
      "    accuracy                           0.65        80\n",
      "   macro avg       0.82      0.53      0.45        80\n",
      "weighted avg       0.78      0.65      0.54        80\n",
      "\n"
     ]
    }
   ],
   "source": [
    "y_pred_prob = ann_model.predict(X_test)\n",
    "y_pred = (y_pred_prob > 0.5).astype(int)\n",
    "\n",
    "from sklearn.metrics import classification_report, confusion_matrix, accuracy_score\n",
    "\n",
    "print(\"✅ Accuracy:\", accuracy_score(y_test, y_pred))\n",
    "print(\"\\n📊 Confusion Matrix:\")\n",
    "print(confusion_matrix(y_test, y_pred))\n",
    "print(\"\\n📝 Classification Report:\")\n",
    "print(classification_report(y_test, y_pred, zero_division=0))\n"
   ]
  },
  {
   "cell_type": "code",
   "execution_count": 165,
   "id": "249f4ada-5152-4335-a6c7-4f9672af1d81",
   "metadata": {},
   "outputs": [
    {
     "name": "stdout",
     "output_type": "stream",
     "text": [
      "Requirement already satisfied: imbalanced-learn in c:\\users\\disha satpute\\appdata\\local\\programs\\python\\python311\\lib\\site-packages (0.13.0)\n",
      "Requirement already satisfied: numpy<3,>=1.24.3 in c:\\users\\disha satpute\\appdata\\local\\programs\\python\\python311\\lib\\site-packages (from imbalanced-learn) (2.1.3)\n",
      "Requirement already satisfied: scipy<2,>=1.10.1 in c:\\users\\disha satpute\\appdata\\local\\programs\\python\\python311\\lib\\site-packages (from imbalanced-learn) (1.15.2)\n",
      "Requirement already satisfied: scikit-learn<2,>=1.3.2 in c:\\users\\disha satpute\\appdata\\local\\programs\\python\\python311\\lib\\site-packages (from imbalanced-learn) (1.6.1)\n",
      "Requirement already satisfied: sklearn-compat<1,>=0.1 in c:\\users\\disha satpute\\appdata\\local\\programs\\python\\python311\\lib\\site-packages (from imbalanced-learn) (0.1.3)\n",
      "Requirement already satisfied: joblib<2,>=1.1.1 in c:\\users\\disha satpute\\appdata\\local\\programs\\python\\python311\\lib\\site-packages (from imbalanced-learn) (1.4.2)\n",
      "Requirement already satisfied: threadpoolctl<4,>=2.0.0 in c:\\users\\disha satpute\\appdata\\local\\programs\\python\\python311\\lib\\site-packages (from imbalanced-learn) (3.6.0)\n",
      "Note: you may need to restart the kernel to use updated packages.\n"
     ]
    },
    {
     "name": "stderr",
     "output_type": "stream",
     "text": [
      "\n",
      "[notice] A new release of pip is available: 24.0 -> 25.1.1\n",
      "[notice] To update, run: python.exe -m pip install --upgrade pip\n"
     ]
    }
   ],
   "source": [
    "pip install imbalanced-learn\n"
   ]
  },
  {
   "cell_type": "code",
   "execution_count": 166,
   "id": "6a749043-1761-43b2-b784-4e598220d5c6",
   "metadata": {},
   "outputs": [
    {
     "name": "stdout",
     "output_type": "stream",
     "text": [
      "Balanced class distribution: {np.int64(0): np.int64(198), np.int64(1): np.int64(198)}\n"
     ]
    }
   ],
   "source": [
    "from imblearn.over_sampling import SMOTE\n",
    "\n",
    "# Create SMOTE object\n",
    "sm = SMOTE(random_state=42)\n",
    "\n",
    "# Apply only to training data (not test!)\n",
    "X_train_res, y_train_res = sm.fit_resample(X_train, y_train)\n",
    "\n",
    "# Print new class distribution\n",
    "import numpy as np\n",
    "unique, counts = np.unique(y_train_res, return_counts=True)\n",
    "print(\"Balanced class distribution:\", dict(zip(unique, counts)))\n"
   ]
  },
  {
   "cell_type": "code",
   "execution_count": 167,
   "id": "4fd5e6f9-f5e5-473f-81a2-478d9029d13a",
   "metadata": {},
   "outputs": [
    {
     "name": "stderr",
     "output_type": "stream",
     "text": [
      "C:\\Users\\Disha Satpute\\AppData\\Local\\Programs\\Python\\Python311\\Lib\\site-packages\\keras\\src\\layers\\core\\dense.py:93: UserWarning: Do not pass an `input_shape`/`input_dim` argument to a layer. When using Sequential models, prefer using an `Input(shape)` object as the first layer in the model instead.\n",
      "  super().__init__(activity_regularizer=activity_regularizer, **kwargs)\n"
     ]
    },
    {
     "name": "stdout",
     "output_type": "stream",
     "text": [
      "Epoch 1/100\n",
      "\u001b[1m4/4\u001b[0m \u001b[32m━━━━━━━━━━━━━━━━━━━━\u001b[0m\u001b[37m\u001b[0m \u001b[1m3s\u001b[0m 252ms/step - accuracy: 0.4096 - loss: 56.8344 - val_accuracy: 0.0250 - val_loss: 36.5299\n",
      "Epoch 2/100\n",
      "\u001b[1m4/4\u001b[0m \u001b[32m━━━━━━━━━━━━━━━━━━━━\u001b[0m\u001b[37m\u001b[0m \u001b[1m0s\u001b[0m 71ms/step - accuracy: 0.6278 - loss: 18.0550 - val_accuracy: 0.0250 - val_loss: 57.6275\n",
      "Epoch 3/100\n",
      "\u001b[1m4/4\u001b[0m \u001b[32m━━━━━━━━━━━━━━━━━━━━\u001b[0m\u001b[37m\u001b[0m \u001b[1m0s\u001b[0m 67ms/step - accuracy: 0.6261 - loss: 19.2545 - val_accuracy: 0.0250 - val_loss: 5.7165\n",
      "Epoch 4/100\n",
      "\u001b[1m4/4\u001b[0m \u001b[32m━━━━━━━━━━━━━━━━━━━━\u001b[0m\u001b[37m\u001b[0m \u001b[1m0s\u001b[0m 67ms/step - accuracy: 0.4608 - loss: 7.2418 - val_accuracy: 0.9750 - val_loss: 0.3737\n",
      "Epoch 5/100\n",
      "\u001b[1m4/4\u001b[0m \u001b[32m━━━━━━━━━━━━━━━━━━━━\u001b[0m\u001b[37m\u001b[0m \u001b[1m0s\u001b[0m 68ms/step - accuracy: 0.4492 - loss: 6.0893 - val_accuracy: 0.0250 - val_loss: 24.6873\n",
      "Epoch 6/100\n",
      "\u001b[1m4/4\u001b[0m \u001b[32m━━━━━━━━━━━━━━━━━━━━\u001b[0m\u001b[37m\u001b[0m \u001b[1m0s\u001b[0m 64ms/step - accuracy: 0.6184 - loss: 9.5743 - val_accuracy: 0.0250 - val_loss: 7.0783\n",
      "Epoch 7/100\n",
      "\u001b[1m4/4\u001b[0m \u001b[32m━━━━━━━━━━━━━━━━━━━━\u001b[0m\u001b[37m\u001b[0m \u001b[1m0s\u001b[0m 70ms/step - accuracy: 0.5475 - loss: 3.2575 - val_accuracy: 0.6375 - val_loss: 0.5733\n",
      "Epoch 8/100\n",
      "\u001b[1m4/4\u001b[0m \u001b[32m━━━━━━━━━━━━━━━━━━━━\u001b[0m\u001b[37m\u001b[0m \u001b[1m0s\u001b[0m 87ms/step - accuracy: 0.5157 - loss: 3.0502 - val_accuracy: 0.0250 - val_loss: 12.2790\n",
      "Epoch 9/100\n",
      "\u001b[1m4/4\u001b[0m \u001b[32m━━━━━━━━━━━━━━━━━━━━\u001b[0m\u001b[37m\u001b[0m \u001b[1m0s\u001b[0m 77ms/step - accuracy: 0.5795 - loss: 3.7490 - val_accuracy: 0.9500 - val_loss: 0.2144\n",
      "Epoch 10/100\n",
      "\u001b[1m4/4\u001b[0m \u001b[32m━━━━━━━━━━━━━━━━━━━━\u001b[0m\u001b[37m\u001b[0m \u001b[1m0s\u001b[0m 67ms/step - accuracy: 0.4963 - loss: 2.5515 - val_accuracy: 0.0250 - val_loss: 5.3085\n",
      "Epoch 11/100\n",
      "\u001b[1m4/4\u001b[0m \u001b[32m━━━━━━━━━━━━━━━━━━━━\u001b[0m\u001b[37m\u001b[0m \u001b[1m0s\u001b[0m 61ms/step - accuracy: 0.5330 - loss: 1.9438 - val_accuracy: 0.1750 - val_loss: 2.0406\n",
      "Epoch 12/100\n",
      "\u001b[1m4/4\u001b[0m \u001b[32m━━━━━━━━━━━━━━━━━━━━\u001b[0m\u001b[37m\u001b[0m \u001b[1m0s\u001b[0m 66ms/step - accuracy: 0.6135 - loss: 1.1015 - val_accuracy: 0.8500 - val_loss: 0.3671\n",
      "Epoch 13/100\n",
      "\u001b[1m4/4\u001b[0m \u001b[32m━━━━━━━━━━━━━━━━━━━━\u001b[0m\u001b[37m\u001b[0m \u001b[1m0s\u001b[0m 61ms/step - accuracy: 0.6014 - loss: 0.9346 - val_accuracy: 0.0375 - val_loss: 3.0093\n",
      "Epoch 14/100\n",
      "\u001b[1m4/4\u001b[0m \u001b[32m━━━━━━━━━━━━━━━━━━━━\u001b[0m\u001b[37m\u001b[0m \u001b[1m0s\u001b[0m 61ms/step - accuracy: 0.5776 - loss: 1.0805 - val_accuracy: 0.0375 - val_loss: 2.9736\n",
      "Epoch 15/100\n",
      "\u001b[1m4/4\u001b[0m \u001b[32m━━━━━━━━━━━━━━━━━━━━\u001b[0m\u001b[37m\u001b[0m \u001b[1m0s\u001b[0m 59ms/step - accuracy: 0.6223 - loss: 1.2655 - val_accuracy: 0.9750 - val_loss: 0.1723\n",
      "Epoch 16/100\n",
      "\u001b[1m4/4\u001b[0m \u001b[32m━━━━━━━━━━━━━━━━━━━━\u001b[0m\u001b[37m\u001b[0m \u001b[1m0s\u001b[0m 63ms/step - accuracy: 0.4847 - loss: 2.4681 - val_accuracy: 0.0250 - val_loss: 6.7014\n",
      "Epoch 17/100\n",
      "\u001b[1m4/4\u001b[0m \u001b[32m━━━━━━━━━━━━━━━━━━━━\u001b[0m\u001b[37m\u001b[0m \u001b[1m0s\u001b[0m 61ms/step - accuracy: 0.6053 - loss: 1.9341 - val_accuracy: 0.9250 - val_loss: 0.2586\n",
      "Epoch 18/100\n",
      "\u001b[1m4/4\u001b[0m \u001b[32m━━━━━━━━━━━━━━━━━━━━\u001b[0m\u001b[37m\u001b[0m \u001b[1m0s\u001b[0m 69ms/step - accuracy: 0.5678 - loss: 1.5349 - val_accuracy: 0.8500 - val_loss: 0.3890\n",
      "Epoch 19/100\n",
      "\u001b[1m4/4\u001b[0m \u001b[32m━━━━━━━━━━━━━━━━━━━━\u001b[0m\u001b[37m\u001b[0m \u001b[1m0s\u001b[0m 86ms/step - accuracy: 0.5938 - loss: 1.2613 - val_accuracy: 0.0250 - val_loss: 6.3614\n",
      "Epoch 20/100\n",
      "\u001b[1m4/4\u001b[0m \u001b[32m━━━━━━━━━━━━━━━━━━━━\u001b[0m\u001b[37m\u001b[0m \u001b[1m0s\u001b[0m 61ms/step - accuracy: 0.6240 - loss: 2.0846 - val_accuracy: 0.9750 - val_loss: 0.1573\n",
      "Epoch 21/100\n",
      "\u001b[1m4/4\u001b[0m \u001b[32m━━━━━━━━━━━━━━━━━━━━\u001b[0m\u001b[37m\u001b[0m \u001b[1m0s\u001b[0m 59ms/step - accuracy: 0.5456 - loss: 2.0388 - val_accuracy: 0.0250 - val_loss: 3.4938\n",
      "Epoch 22/100\n",
      "\u001b[1m4/4\u001b[0m \u001b[32m━━━━━━━━━━━━━━━━━━━━\u001b[0m\u001b[37m\u001b[0m \u001b[1m0s\u001b[0m 55ms/step - accuracy: 0.6042 - loss: 1.4412 - val_accuracy: 0.0250 - val_loss: 4.3426\n",
      "Epoch 23/100\n",
      "\u001b[1m4/4\u001b[0m \u001b[32m━━━━━━━━━━━━━━━━━━━━\u001b[0m\u001b[37m\u001b[0m \u001b[1m0s\u001b[0m 56ms/step - accuracy: 0.6273 - loss: 1.9385 - val_accuracy: 0.9750 - val_loss: 0.1743\n",
      "Epoch 24/100\n",
      "\u001b[1m4/4\u001b[0m \u001b[32m━━━━━━━━━━━━━━━━━━━━\u001b[0m\u001b[37m\u001b[0m \u001b[1m0s\u001b[0m 63ms/step - accuracy: 0.4713 - loss: 2.8945 - val_accuracy: 0.0250 - val_loss: 7.8976\n",
      "Epoch 25/100\n",
      "\u001b[1m4/4\u001b[0m \u001b[32m━━━━━━━━━━━━━━━━━━━━\u001b[0m\u001b[37m\u001b[0m \u001b[1m0s\u001b[0m 57ms/step - accuracy: 0.6133 - loss: 2.5657 - val_accuracy: 0.9750 - val_loss: 0.1582\n",
      "Epoch 26/100\n",
      "\u001b[1m4/4\u001b[0m \u001b[32m━━━━━━━━━━━━━━━━━━━━\u001b[0m\u001b[37m\u001b[0m \u001b[1m0s\u001b[0m 57ms/step - accuracy: 0.5496 - loss: 2.1322 - val_accuracy: 0.0375 - val_loss: 3.4694\n",
      "Epoch 27/100\n",
      "\u001b[1m4/4\u001b[0m \u001b[32m━━━━━━━━━━━━━━━━━━━━\u001b[0m\u001b[37m\u001b[0m \u001b[1m0s\u001b[0m 58ms/step - accuracy: 0.6206 - loss: 1.2985 - val_accuracy: 0.0375 - val_loss: 3.1660\n",
      "Epoch 28/100\n",
      "\u001b[1m4/4\u001b[0m \u001b[32m━━━━━━━━━━━━━━━━━━━━\u001b[0m\u001b[37m\u001b[0m \u001b[1m0s\u001b[0m 59ms/step - accuracy: 0.6156 - loss: 1.4852 - val_accuracy: 0.9625 - val_loss: 0.1762\n",
      "Epoch 29/100\n",
      "\u001b[1m4/4\u001b[0m \u001b[32m━━━━━━━━━━━━━━━━━━━━\u001b[0m\u001b[37m\u001b[0m \u001b[1m0s\u001b[0m 66ms/step - accuracy: 0.6511 - loss: 0.8597 - val_accuracy: 0.6375 - val_loss: 0.5776\n",
      "Epoch 30/100\n",
      "\u001b[1m4/4\u001b[0m \u001b[32m━━━━━━━━━━━━━━━━━━━━\u001b[0m\u001b[37m\u001b[0m \u001b[1m0s\u001b[0m 72ms/step - accuracy: 0.6722 - loss: 0.7495 - val_accuracy: 0.1125 - val_loss: 2.0916\n",
      "Epoch 31/100\n",
      "\u001b[1m4/4\u001b[0m \u001b[32m━━━━━━━━━━━━━━━━━━━━\u001b[0m\u001b[37m\u001b[0m \u001b[1m0s\u001b[0m 61ms/step - accuracy: 0.6528 - loss: 0.8376 - val_accuracy: 0.0875 - val_loss: 2.6071\n",
      "Epoch 32/100\n",
      "\u001b[1m4/4\u001b[0m \u001b[32m━━━━━━━━━━━━━━━━━━━━\u001b[0m\u001b[37m\u001b[0m \u001b[1m0s\u001b[0m 67ms/step - accuracy: 0.6278 - loss: 1.0696 - val_accuracy: 0.9625 - val_loss: 0.1332\n",
      "Epoch 33/100\n",
      "\u001b[1m4/4\u001b[0m \u001b[32m━━━━━━━━━━━━━━━━━━━━\u001b[0m\u001b[37m\u001b[0m \u001b[1m0s\u001b[0m 60ms/step - accuracy: 0.5997 - loss: 1.2024 - val_accuracy: 0.9625 - val_loss: 0.1756\n",
      "Epoch 34/100\n",
      "\u001b[1m4/4\u001b[0m \u001b[32m━━━━━━━━━━━━━━━━━━━━\u001b[0m\u001b[37m\u001b[0m \u001b[1m0s\u001b[0m 55ms/step - accuracy: 0.6244 - loss: 1.3812 - val_accuracy: 0.0750 - val_loss: 2.7970\n",
      "Epoch 35/100\n",
      "\u001b[1m4/4\u001b[0m \u001b[32m━━━━━━━━━━━━━━━━━━━━\u001b[0m\u001b[37m\u001b[0m \u001b[1m0s\u001b[0m 56ms/step - accuracy: 0.6458 - loss: 1.0267 - val_accuracy: 0.2875 - val_loss: 1.3574\n",
      "Epoch 36/100\n",
      "\u001b[1m4/4\u001b[0m \u001b[32m━━━━━━━━━━━━━━━━━━━━\u001b[0m\u001b[37m\u001b[0m \u001b[1m0s\u001b[0m 64ms/step - accuracy: 0.6952 - loss: 0.7066 - val_accuracy: 0.8375 - val_loss: 0.3692\n",
      "Epoch 37/100\n",
      "\u001b[1m4/4\u001b[0m \u001b[32m━━━━━━━━━━━━━━━━━━━━\u001b[0m\u001b[37m\u001b[0m \u001b[1m0s\u001b[0m 56ms/step - accuracy: 0.7085 - loss: 0.6010 - val_accuracy: 0.9125 - val_loss: 0.2788\n",
      "Epoch 38/100\n",
      "\u001b[1m4/4\u001b[0m \u001b[32m━━━━━━━━━━━━━━━━━━━━\u001b[0m\u001b[37m\u001b[0m \u001b[1m0s\u001b[0m 76ms/step - accuracy: 0.6928 - loss: 0.6190 - val_accuracy: 0.4250 - val_loss: 1.0310\n",
      "Epoch 39/100\n",
      "\u001b[1m4/4\u001b[0m \u001b[32m━━━━━━━━━━━━━━━━━━━━\u001b[0m\u001b[37m\u001b[0m \u001b[1m0s\u001b[0m 72ms/step - accuracy: 0.7112 - loss: 0.5757 - val_accuracy: 0.6875 - val_loss: 0.5395\n",
      "Epoch 40/100\n",
      "\u001b[1m4/4\u001b[0m \u001b[32m━━━━━━━━━━━━━━━━━━━━\u001b[0m\u001b[37m\u001b[0m \u001b[1m0s\u001b[0m 68ms/step - accuracy: 0.7189 - loss: 0.5454 - val_accuracy: 0.9625 - val_loss: 0.1472\n",
      "Epoch 41/100\n",
      "\u001b[1m4/4\u001b[0m \u001b[32m━━━━━━━━━━━━━━━━━━━━\u001b[0m\u001b[37m\u001b[0m \u001b[1m0s\u001b[0m 68ms/step - accuracy: 0.6306 - loss: 0.8518 - val_accuracy: 0.9625 - val_loss: 0.1706\n",
      "Epoch 42/100\n",
      "\u001b[1m4/4\u001b[0m \u001b[32m━━━━━━━━━━━━━━━━━━━━\u001b[0m\u001b[37m\u001b[0m \u001b[1m0s\u001b[0m 64ms/step - accuracy: 0.6959 - loss: 0.7196 - val_accuracy: 0.5750 - val_loss: 0.7130\n",
      "Epoch 43/100\n",
      "\u001b[1m4/4\u001b[0m \u001b[32m━━━━━━━━━━━━━━━━━━━━\u001b[0m\u001b[37m\u001b[0m \u001b[1m0s\u001b[0m 62ms/step - accuracy: 0.7204 - loss: 0.4934 - val_accuracy: 0.5875 - val_loss: 0.6640\n",
      "Epoch 44/100\n",
      "\u001b[1m4/4\u001b[0m \u001b[32m━━━━━━━━━━━━━━━━━━━━\u001b[0m\u001b[37m\u001b[0m \u001b[1m0s\u001b[0m 63ms/step - accuracy: 0.7222 - loss: 0.4836 - val_accuracy: 0.9125 - val_loss: 0.2823\n",
      "Epoch 45/100\n",
      "\u001b[1m4/4\u001b[0m \u001b[32m━━━━━━━━━━━━━━━━━━━━\u001b[0m\u001b[37m\u001b[0m \u001b[1m0s\u001b[0m 68ms/step - accuracy: 0.7142 - loss: 0.5653 - val_accuracy: 0.8750 - val_loss: 0.3435\n",
      "Epoch 46/100\n",
      "\u001b[1m4/4\u001b[0m \u001b[32m━━━━━━━━━━━━━━━━━━━━\u001b[0m\u001b[37m\u001b[0m \u001b[1m0s\u001b[0m 74ms/step - accuracy: 0.7062 - loss: 0.5230 - val_accuracy: 0.9625 - val_loss: 0.1486\n",
      "Epoch 47/100\n",
      "\u001b[1m4/4\u001b[0m \u001b[32m━━━━━━━━━━━━━━━━━━━━\u001b[0m\u001b[37m\u001b[0m \u001b[1m0s\u001b[0m 67ms/step - accuracy: 0.6790 - loss: 0.7433 - val_accuracy: 0.9125 - val_loss: 0.2772\n",
      "Epoch 48/100\n",
      "\u001b[1m4/4\u001b[0m \u001b[32m━━━━━━━━━━━━━━━━━━━━\u001b[0m\u001b[37m\u001b[0m \u001b[1m0s\u001b[0m 63ms/step - accuracy: 0.7406 - loss: 0.5873 - val_accuracy: 0.9000 - val_loss: 0.3127\n",
      "Epoch 49/100\n",
      "\u001b[1m4/4\u001b[0m \u001b[32m━━━━━━━━━━━━━━━━━━━━\u001b[0m\u001b[37m\u001b[0m \u001b[1m0s\u001b[0m 67ms/step - accuracy: 0.7189 - loss: 0.5212 - val_accuracy: 0.9625 - val_loss: 0.1492\n",
      "Epoch 50/100\n",
      "\u001b[1m4/4\u001b[0m \u001b[32m━━━━━━━━━━━━━━━━━━━━\u001b[0m\u001b[37m\u001b[0m \u001b[1m0s\u001b[0m 60ms/step - accuracy: 0.7072 - loss: 0.7159 - val_accuracy: 0.1625 - val_loss: 2.0044\n",
      "Epoch 51/100\n",
      "\u001b[1m4/4\u001b[0m \u001b[32m━━━━━━━━━━━━━━━━━━━━\u001b[0m\u001b[37m\u001b[0m \u001b[1m0s\u001b[0m 63ms/step - accuracy: 0.7213 - loss: 0.7643 - val_accuracy: 0.7750 - val_loss: 0.4300\n",
      "Epoch 52/100\n",
      "\u001b[1m4/4\u001b[0m \u001b[32m━━━━━━━━━━━━━━━━━━━━\u001b[0m\u001b[37m\u001b[0m \u001b[1m0s\u001b[0m 59ms/step - accuracy: 0.7312 - loss: 0.4729 - val_accuracy: 0.9375 - val_loss: 0.2605\n",
      "Epoch 53/100\n",
      "\u001b[1m4/4\u001b[0m \u001b[32m━━━━━━━━━━━━━━━━━━━━\u001b[0m\u001b[37m\u001b[0m \u001b[1m0s\u001b[0m 56ms/step - accuracy: 0.7388 - loss: 0.5106 - val_accuracy: 0.9750 - val_loss: 0.1017\n",
      "Epoch 54/100\n",
      "\u001b[1m4/4\u001b[0m \u001b[32m━━━━━━━━━━━━━━━━━━━━\u001b[0m\u001b[37m\u001b[0m \u001b[1m0s\u001b[0m 64ms/step - accuracy: 0.6997 - loss: 0.7244 - val_accuracy: 0.9625 - val_loss: 0.1069\n",
      "Epoch 55/100\n",
      "\u001b[1m4/4\u001b[0m \u001b[32m━━━━━━━━━━━━━━━━━━━━\u001b[0m\u001b[37m\u001b[0m \u001b[1m0s\u001b[0m 55ms/step - accuracy: 0.7002 - loss: 0.8164 - val_accuracy: 0.1750 - val_loss: 1.7539\n",
      "Epoch 56/100\n",
      "\u001b[1m4/4\u001b[0m \u001b[32m━━━━━━━━━━━━━━━━━━━━\u001b[0m\u001b[37m\u001b[0m \u001b[1m0s\u001b[0m 60ms/step - accuracy: 0.7231 - loss: 0.6915 - val_accuracy: 0.1500 - val_loss: 2.3755\n",
      "Epoch 57/100\n",
      "\u001b[1m4/4\u001b[0m \u001b[32m━━━━━━━━━━━━━━━━━━━━\u001b[0m\u001b[37m\u001b[0m \u001b[1m0s\u001b[0m 74ms/step - accuracy: 0.6547 - loss: 0.9373 - val_accuracy: 0.3125 - val_loss: 1.3500\n",
      "Epoch 58/100\n",
      "\u001b[1m4/4\u001b[0m \u001b[32m━━━━━━━━━━━━━━━━━━━━\u001b[0m\u001b[37m\u001b[0m \u001b[1m0s\u001b[0m 74ms/step - accuracy: 0.7067 - loss: 0.6266 - val_accuracy: 0.9625 - val_loss: 0.1884\n",
      "Epoch 59/100\n",
      "\u001b[1m4/4\u001b[0m \u001b[32m━━━━━━━━━━━━━━━━━━━━\u001b[0m\u001b[37m\u001b[0m \u001b[1m0s\u001b[0m 78ms/step - accuracy: 0.7660 - loss: 0.4870 - val_accuracy: 0.6125 - val_loss: 0.6756\n",
      "Epoch 60/100\n",
      "\u001b[1m4/4\u001b[0m \u001b[32m━━━━━━━━━━━━━━━━━━━━\u001b[0m\u001b[37m\u001b[0m \u001b[1m1s\u001b[0m 59ms/step - accuracy: 0.7714 - loss: 0.4438 - val_accuracy: 0.7875 - val_loss: 0.3936\n",
      "Epoch 61/100\n",
      "\u001b[1m4/4\u001b[0m \u001b[32m━━━━━━━━━━━━━━━━━━━━\u001b[0m\u001b[37m\u001b[0m \u001b[1m0s\u001b[0m 62ms/step - accuracy: 0.7986 - loss: 0.4019 - val_accuracy: 0.7125 - val_loss: 0.5510\n",
      "Epoch 62/100\n",
      "\u001b[1m4/4\u001b[0m \u001b[32m━━━━━━━━━━━━━━━━━━━━\u001b[0m\u001b[37m\u001b[0m \u001b[1m0s\u001b[0m 56ms/step - accuracy: 0.7942 - loss: 0.3967 - val_accuracy: 0.7250 - val_loss: 0.5349\n",
      "Epoch 63/100\n",
      "\u001b[1m4/4\u001b[0m \u001b[32m━━━━━━━━━━━━━━━━━━━━\u001b[0m\u001b[37m\u001b[0m \u001b[1m0s\u001b[0m 61ms/step - accuracy: 0.7768 - loss: 0.4153 - val_accuracy: 0.8625 - val_loss: 0.3371\n",
      "Epoch 64/100\n",
      "\u001b[1m4/4\u001b[0m \u001b[32m━━━━━━━━━━━━━━━━━━━━\u001b[0m\u001b[37m\u001b[0m \u001b[1m0s\u001b[0m 57ms/step - accuracy: 0.7931 - loss: 0.3965 - val_accuracy: 0.6250 - val_loss: 0.6557\n",
      "Epoch 65/100\n",
      "\u001b[1m4/4\u001b[0m \u001b[32m━━━━━━━━━━━━━━━━━━━━\u001b[0m\u001b[37m\u001b[0m \u001b[1m0s\u001b[0m 60ms/step - accuracy: 0.7986 - loss: 0.4008 - val_accuracy: 0.6375 - val_loss: 0.6522\n",
      "Epoch 66/100\n",
      "\u001b[1m4/4\u001b[0m \u001b[32m━━━━━━━━━━━━━━━━━━━━\u001b[0m\u001b[37m\u001b[0m \u001b[1m0s\u001b[0m 65ms/step - accuracy: 0.7581 - loss: 0.4168 - val_accuracy: 0.6125 - val_loss: 0.6868\n",
      "Epoch 67/100\n",
      "\u001b[1m4/4\u001b[0m \u001b[32m━━━━━━━━━━━━━━━━━━━━\u001b[0m\u001b[37m\u001b[0m \u001b[1m0s\u001b[0m 74ms/step - accuracy: 0.7735 - loss: 0.4431 - val_accuracy: 0.3250 - val_loss: 1.3081\n",
      "Epoch 68/100\n",
      "\u001b[1m4/4\u001b[0m \u001b[32m━━━━━━━━━━━━━━━━━━━━\u001b[0m\u001b[37m\u001b[0m \u001b[1m0s\u001b[0m 70ms/step - accuracy: 0.7554 - loss: 0.5343 - val_accuracy: 0.9375 - val_loss: 0.2323\n",
      "Epoch 69/100\n",
      "\u001b[1m4/4\u001b[0m \u001b[32m━━━━━━━━━━━━━━━━━━━━\u001b[0m\u001b[37m\u001b[0m \u001b[1m0s\u001b[0m 57ms/step - accuracy: 0.8238 - loss: 0.3295 - val_accuracy: 0.7500 - val_loss: 0.4912\n",
      "Epoch 70/100\n",
      "\u001b[1m4/4\u001b[0m \u001b[32m━━━━━━━━━━━━━━━━━━━━\u001b[0m\u001b[37m\u001b[0m \u001b[1m0s\u001b[0m 61ms/step - accuracy: 0.7999 - loss: 0.3952 - val_accuracy: 0.1750 - val_loss: 2.0792\n",
      "Epoch 71/100\n",
      "\u001b[1m4/4\u001b[0m \u001b[32m━━━━━━━━━━━━━━━━━━━━\u001b[0m\u001b[37m\u001b[0m \u001b[1m0s\u001b[0m 63ms/step - accuracy: 0.7403 - loss: 0.6319 - val_accuracy: 0.4375 - val_loss: 1.0311\n",
      "Epoch 72/100\n",
      "\u001b[1m4/4\u001b[0m \u001b[32m━━━━━━━━━━━━━━━━━━━━\u001b[0m\u001b[37m\u001b[0m \u001b[1m0s\u001b[0m 61ms/step - accuracy: 0.7417 - loss: 0.6036 - val_accuracy: 0.9750 - val_loss: 0.1313\n",
      "Epoch 73/100\n",
      "\u001b[1m4/4\u001b[0m \u001b[32m━━━━━━━━━━━━━━━━━━━━\u001b[0m\u001b[37m\u001b[0m \u001b[1m0s\u001b[0m 61ms/step - accuracy: 0.7360 - loss: 0.6574 - val_accuracy: 0.9750 - val_loss: 0.0913\n",
      "Epoch 74/100\n",
      "\u001b[1m4/4\u001b[0m \u001b[32m━━━━━━━━━━━━━━━━━━━━\u001b[0m\u001b[37m\u001b[0m \u001b[1m0s\u001b[0m 63ms/step - accuracy: 0.7836 - loss: 0.5214 - val_accuracy: 0.9750 - val_loss: 0.0747\n",
      "Epoch 75/100\n",
      "\u001b[1m4/4\u001b[0m \u001b[32m━━━━━━━━━━━━━━━━━━━━\u001b[0m\u001b[37m\u001b[0m \u001b[1m0s\u001b[0m 54ms/step - accuracy: 0.6607 - loss: 0.9478 - val_accuracy: 0.2750 - val_loss: 1.4220\n",
      "Epoch 76/100\n",
      "\u001b[1m4/4\u001b[0m \u001b[32m━━━━━━━━━━━━━━━━━━━━\u001b[0m\u001b[37m\u001b[0m \u001b[1m0s\u001b[0m 68ms/step - accuracy: 0.7193 - loss: 0.6966 - val_accuracy: 0.1000 - val_loss: 2.9429\n",
      "Epoch 77/100\n",
      "\u001b[1m4/4\u001b[0m \u001b[32m━━━━━━━━━━━━━━━━━━━━\u001b[0m\u001b[37m\u001b[0m \u001b[1m0s\u001b[0m 62ms/step - accuracy: 0.6768 - loss: 0.9861 - val_accuracy: 0.4125 - val_loss: 1.1346\n",
      "Epoch 78/100\n",
      "\u001b[1m4/4\u001b[0m \u001b[32m━━━━━━━━━━━━━━━━━━━━\u001b[0m\u001b[37m\u001b[0m \u001b[1m0s\u001b[0m 66ms/step - accuracy: 0.7511 - loss: 0.6616 - val_accuracy: 0.8500 - val_loss: 0.3299\n",
      "Epoch 79/100\n",
      "\u001b[1m4/4\u001b[0m \u001b[32m━━━━━━━━━━━━━━━━━━━━\u001b[0m\u001b[37m\u001b[0m \u001b[1m0s\u001b[0m 60ms/step - accuracy: 0.7753 - loss: 0.4992 - val_accuracy: 0.9875 - val_loss: 0.0987\n",
      "Epoch 80/100\n",
      "\u001b[1m4/4\u001b[0m \u001b[32m━━━━━━━━━━━━━━━━━━━━\u001b[0m\u001b[37m\u001b[0m \u001b[1m0s\u001b[0m 61ms/step - accuracy: 0.7271 - loss: 0.6576 - val_accuracy: 0.9750 - val_loss: 0.0894\n",
      "Epoch 81/100\n",
      "\u001b[1m4/4\u001b[0m \u001b[32m━━━━━━━━━━━━━━━━━━━━\u001b[0m\u001b[37m\u001b[0m \u001b[1m0s\u001b[0m 78ms/step - accuracy: 0.7729 - loss: 0.4389 - val_accuracy: 0.9875 - val_loss: 0.1301\n",
      "Epoch 82/100\n",
      "\u001b[1m4/4\u001b[0m \u001b[32m━━━━━━━━━━━━━━━━━━━━\u001b[0m\u001b[37m\u001b[0m \u001b[1m0s\u001b[0m 56ms/step - accuracy: 0.8106 - loss: 0.4199 - val_accuracy: 0.9750 - val_loss: 0.0667\n",
      "Epoch 83/100\n",
      "\u001b[1m4/4\u001b[0m \u001b[32m━━━━━━━━━━━━━━━━━━━━\u001b[0m\u001b[37m\u001b[0m \u001b[1m0s\u001b[0m 57ms/step - accuracy: 0.7287 - loss: 0.7059 - val_accuracy: 0.6000 - val_loss: 0.7804\n",
      "Epoch 84/100\n",
      "\u001b[1m4/4\u001b[0m \u001b[32m━━━━━━━━━━━━━━━━━━━━\u001b[0m\u001b[37m\u001b[0m \u001b[1m0s\u001b[0m 59ms/step - accuracy: 0.7465 - loss: 0.5805 - val_accuracy: 0.8000 - val_loss: 0.3540\n",
      "Epoch 85/100\n",
      "\u001b[1m4/4\u001b[0m \u001b[32m━━━━━━━━━━━━━━━━━━━━\u001b[0m\u001b[37m\u001b[0m \u001b[1m0s\u001b[0m 64ms/step - accuracy: 0.7943 - loss: 0.5256 - val_accuracy: 0.2500 - val_loss: 1.6669\n",
      "Epoch 86/100\n",
      "\u001b[1m4/4\u001b[0m \u001b[32m━━━━━━━━━━━━━━━━━━━━\u001b[0m\u001b[37m\u001b[0m \u001b[1m0s\u001b[0m 65ms/step - accuracy: 0.7159 - loss: 0.6872 - val_accuracy: 0.3750 - val_loss: 1.2618\n",
      "Epoch 87/100\n",
      "\u001b[1m4/4\u001b[0m \u001b[32m━━━━━━━━━━━━━━━━━━━━\u001b[0m\u001b[37m\u001b[0m \u001b[1m0s\u001b[0m 74ms/step - accuracy: 0.7883 - loss: 0.4552 - val_accuracy: 0.3000 - val_loss: 1.5155\n",
      "Epoch 88/100\n",
      "\u001b[1m4/4\u001b[0m \u001b[32m━━━━━━━━━━━━━━━━━━━━\u001b[0m\u001b[37m\u001b[0m \u001b[1m0s\u001b[0m 62ms/step - accuracy: 0.7203 - loss: 0.6669 - val_accuracy: 0.7500 - val_loss: 0.5431\n",
      "Epoch 89/100\n",
      "\u001b[1m4/4\u001b[0m \u001b[32m━━━━━━━━━━━━━━━━━━━━\u001b[0m\u001b[37m\u001b[0m \u001b[1m0s\u001b[0m 65ms/step - accuracy: 0.8083 - loss: 0.3688 - val_accuracy: 0.4375 - val_loss: 1.0498\n",
      "Epoch 90/100\n",
      "\u001b[1m4/4\u001b[0m \u001b[32m━━━━━━━━━━━━━━━━━━━━\u001b[0m\u001b[37m\u001b[0m \u001b[1m0s\u001b[0m 61ms/step - accuracy: 0.7697 - loss: 0.4944 - val_accuracy: 0.9000 - val_loss: 0.2928\n",
      "Epoch 91/100\n",
      "\u001b[1m4/4\u001b[0m \u001b[32m━━━━━━━━━━━━━━━━━━━━\u001b[0m\u001b[37m\u001b[0m \u001b[1m0s\u001b[0m 61ms/step - accuracy: 0.8047 - loss: 0.4000 - val_accuracy: 0.9750 - val_loss: 0.0618\n",
      "Epoch 92/100\n",
      "\u001b[1m4/4\u001b[0m \u001b[32m━━━━━━━━━━━━━━━━━━━━\u001b[0m\u001b[37m\u001b[0m \u001b[1m0s\u001b[0m 58ms/step - accuracy: 0.8157 - loss: 0.4448 - val_accuracy: 0.7875 - val_loss: 0.3665\n",
      "Epoch 93/100\n",
      "\u001b[1m4/4\u001b[0m \u001b[32m━━━━━━━━━━━━━━━━━━━━\u001b[0m\u001b[37m\u001b[0m \u001b[1m0s\u001b[0m 57ms/step - accuracy: 0.8419 - loss: 0.3034 - val_accuracy: 0.9000 - val_loss: 0.2984\n",
      "Epoch 94/100\n",
      "\u001b[1m4/4\u001b[0m \u001b[32m━━━━━━━━━━━━━━━━━━━━\u001b[0m\u001b[37m\u001b[0m \u001b[1m0s\u001b[0m 60ms/step - accuracy: 0.8692 - loss: 0.2903 - val_accuracy: 0.3375 - val_loss: 1.3307\n",
      "Epoch 95/100\n",
      "\u001b[1m4/4\u001b[0m \u001b[32m━━━━━━━━━━━━━━━━━━━━\u001b[0m\u001b[37m\u001b[0m \u001b[1m0s\u001b[0m 63ms/step - accuracy: 0.7931 - loss: 0.4762 - val_accuracy: 0.6375 - val_loss: 0.7134\n",
      "Epoch 96/100\n",
      "\u001b[1m4/4\u001b[0m \u001b[32m━━━━━━━━━━━━━━━━━━━━\u001b[0m\u001b[37m\u001b[0m \u001b[1m0s\u001b[0m 65ms/step - accuracy: 0.8088 - loss: 0.3661 - val_accuracy: 0.9750 - val_loss: 0.1417\n",
      "Epoch 97/100\n",
      "\u001b[1m4/4\u001b[0m \u001b[32m━━━━━━━━━━━━━━━━━━━━\u001b[0m\u001b[37m\u001b[0m \u001b[1m0s\u001b[0m 65ms/step - accuracy: 0.8499 - loss: 0.3281 - val_accuracy: 0.7500 - val_loss: 0.5320\n",
      "Epoch 98/100\n",
      "\u001b[1m4/4\u001b[0m \u001b[32m━━━━━━━━━━━━━━━━━━━━\u001b[0m\u001b[37m\u001b[0m \u001b[1m0s\u001b[0m 58ms/step - accuracy: 0.8637 - loss: 0.3049 - val_accuracy: 0.7750 - val_loss: 0.4019\n",
      "Epoch 99/100\n",
      "\u001b[1m4/4\u001b[0m \u001b[32m━━━━━━━━━━━━━━━━━━━━\u001b[0m\u001b[37m\u001b[0m \u001b[1m0s\u001b[0m 62ms/step - accuracy: 0.8382 - loss: 0.3140 - val_accuracy: 0.9125 - val_loss: 0.2849\n",
      "Epoch 100/100\n",
      "\u001b[1m4/4\u001b[0m \u001b[32m━━━━━━━━━━━━━━━━━━━━\u001b[0m\u001b[37m\u001b[0m \u001b[1m0s\u001b[0m 60ms/step - accuracy: 0.8682 - loss: 0.2849 - val_accuracy: 0.6250 - val_loss: 0.6966\n"
     ]
    }
   ],
   "source": [
    "from tensorflow.keras.models import Sequential\n",
    "from tensorflow.keras.layers import Dense\n",
    "\n",
    "# Rebuild the model\n",
    "ann_model = Sequential()\n",
    "ann_model.add(Dense(units=32, activation='relu', input_shape=(X_train_res.shape[1],)))\n",
    "ann_model.add(Dense(units=16, activation='relu'))\n",
    "ann_model.add(Dense(units=1, activation='sigmoid'))\n",
    "\n",
    "# Compile\n",
    "ann_model.compile(optimizer='adam', loss='binary_crossentropy', metrics=['accuracy'])\n",
    "\n",
    "# Train\n",
    "history = ann_model.fit(\n",
    "    X_train_res, y_train_res,\n",
    "    batch_size=100,\n",
    "    epochs=100,\n",
    "    validation_split=0.2,\n",
    "    verbose=1\n",
    ")\n"
   ]
  },
  {
   "cell_type": "code",
   "execution_count": 168,
   "id": "84242071-65fd-4fd0-af9c-2d9bb1a86e2c",
   "metadata": {},
   "outputs": [
    {
     "name": "stdout",
     "output_type": "stream",
     "text": [
      "\u001b[1m3/3\u001b[0m \u001b[32m━━━━━━━━━━━━━━━━━━━━\u001b[0m\u001b[37m\u001b[0m \u001b[1m0s\u001b[0m 60ms/step\n",
      "✅ Accuracy: 0.7625\n",
      "\n",
      "📊 Confusion Matrix:\n",
      "[[49  1]\n",
      " [18 12]]\n",
      "\n",
      "📝 Classification Report:\n",
      "              precision    recall  f1-score   support\n",
      "\n",
      "           0       0.73      0.98      0.84        50\n",
      "           1       0.92      0.40      0.56        30\n",
      "\n",
      "    accuracy                           0.76        80\n",
      "   macro avg       0.83      0.69      0.70        80\n",
      "weighted avg       0.80      0.76      0.73        80\n",
      "\n"
     ]
    }
   ],
   "source": [
    "from sklearn.metrics import classification_report, confusion_matrix, accuracy_score\n",
    "\n",
    "y_pred_prob = ann_model.predict(X_test)\n",
    "y_pred = (y_pred_prob > 0.5).astype(int)\n",
    "\n",
    "print(\"✅ Accuracy:\", accuracy_score(y_test, y_pred))\n",
    "\n",
    "print(\"\\n📊 Confusion Matrix:\")\n",
    "print(confusion_matrix(y_test, y_pred))\n",
    "\n",
    "print(\"\\n📝 Classification Report:\")\n",
    "print(classification_report(y_test, y_pred, zero_division=0))\n"
   ]
  },
  {
   "cell_type": "code",
   "execution_count": 169,
   "id": "92941b8d-738d-4c38-8c20-954d9c3e0021",
   "metadata": {},
   "outputs": [
    {
     "name": "stderr",
     "output_type": "stream",
     "text": [
      "WARNING:absl:You are saving your model as an HDF5 file via `model.save()` or `keras.saving.save_model(model)`. This file format is considered legacy. We recommend using instead the native Keras format, e.g. `model.save('my_model.keras')` or `keras.saving.save_model(model, 'my_model.keras')`. \n"
     ]
    },
    {
     "name": "stdout",
     "output_type": "stream",
     "text": [
      "Model saved!\n"
     ]
    }
   ],
   "source": [
    "ann_model.save(\"ckd_ann_model_after_smote.h5\")\n",
    "print(\"Model saved!\")\n"
   ]
  },
  {
   "cell_type": "code",
   "execution_count": 170,
   "id": "ba9d643b-671a-4ad9-9e1e-1ca7891802a0",
   "metadata": {},
   "outputs": [
    {
     "data": {
      "image/png": "[encoded data removed]",
      "text/plain": [
       "<Figure size 640x480 with 1 Axes>"
      ]
     },
     "metadata": {},
     "output_type": "display_data"
    },
    {
     "data": {
      "image/png": "[encoded data removed]",
      "text/plain": [
       "<Figure size 640x480 with 1 Axes>"
      ]
     },
     "metadata": {},
     "output_type": "display_data"
    }
   ],
   "source": [
    "import matplotlib.pyplot as plt\n",
    "\n",
    "# Accuracy\n",
    "plt.plot(history.history['accuracy'], label='Train Acc')\n",
    "plt.plot(history.history['val_accuracy'], label='Val Acc')\n",
    "plt.title(\"Model Accuracy\")\n",
    "plt.xlabel(\"Epoch\")\n",
    "plt.ylabel(\"Accuracy\")\n",
    "plt.legend()\n",
    "plt.show()\n",
    "\n",
    "# Loss\n",
    "plt.plot(history.history['loss'], label='Train Loss')\n",
    "plt.plot(history.history['val_loss'], label='Val Loss')\n",
    "plt.title(\"Model Loss\")\n",
    "plt.xlabel(\"Epoch\")\n",
    "plt.ylabel(\"Loss\")\n",
    "plt.legend()\n",
    "plt.show()\n"
   ]
  },
  {
   "cell_type": "code",
   "execution_count": 173,
   "id": "4564bf98-5723-4456-8781-840e8f96ab48",
   "metadata": {},
   "outputs": [
    {
     "name": "stdout",
     "output_type": "stream",
     "text": [
      "🔍 Testing 10 samples (5 CKD, 5 Not CKD):\n",
      "\n",
      "\u001b[1m1/1\u001b[0m \u001b[32m━━━━━━━━━━━━━━━━━━━━\u001b[0m\u001b[37m\u001b[0m \u001b[1m0s\u001b[0m 119ms/step\n",
      "🎯 Sample index: 0\n",
      "   ➤ Prediction Probability: 0.3253\n",
      "   ➤ Predicted Class: Not CKD\n",
      "   ✅ Actual Class   : CKD\n",
      "\n",
      "\u001b[1m1/1\u001b[0m \u001b[32m━━━━━━━━━━━━━━━━━━━━\u001b[0m\u001b[37m\u001b[0m \u001b[1m0s\u001b[0m 128ms/step\n",
      "🎯 Sample index: 4\n",
      "   ➤ Prediction Probability: 0.2150\n",
      "   ➤ Predicted Class: Not CKD\n",
      "   ✅ Actual Class   : CKD\n",
      "\n",
      "\u001b[1m1/1\u001b[0m \u001b[32m━━━━━━━━━━━━━━━━━━━━\u001b[0m\u001b[37m\u001b[0m \u001b[1m0s\u001b[0m 135ms/step\n",
      "🎯 Sample index: 6\n",
      "   ➤ Prediction Probability: 0.0270\n",
      "   ➤ Predicted Class: Not CKD\n",
      "   ✅ Actual Class   : CKD\n",
      "\n",
      "\u001b[1m1/1\u001b[0m \u001b[32m━━━━━━━━━━━━━━━━━━━━\u001b[0m\u001b[37m\u001b[0m \u001b[1m0s\u001b[0m 114ms/step\n",
      "🎯 Sample index: 7\n",
      "   ➤ Prediction Probability: 0.5781\n",
      "   ➤ Predicted Class: CKD\n",
      "   ✅ Actual Class   : CKD\n",
      "\n",
      "\u001b[1m1/1\u001b[0m \u001b[32m━━━━━━━━━━━━━━━━━━━━\u001b[0m\u001b[37m\u001b[0m \u001b[1m0s\u001b[0m 99ms/step\n",
      "🎯 Sample index: 9\n",
      "   ➤ Prediction Probability: 0.4891\n",
      "   ➤ Predicted Class: Not CKD\n",
      "   ✅ Actual Class   : CKD\n",
      "\n",
      "\u001b[1m1/1\u001b[0m \u001b[32m━━━━━━━━━━━━━━━━━━━━\u001b[0m\u001b[37m\u001b[0m \u001b[1m0s\u001b[0m 93ms/step\n",
      "🎯 Sample index: 1\n",
      "   ➤ Prediction Probability: 0.0000\n",
      "   ➤ Predicted Class: Not CKD\n",
      "   ✅ Actual Class   : Not CKD\n",
      "\n",
      "\u001b[1m1/1\u001b[0m \u001b[32m━━━━━━━━━━━━━━━━━━━━\u001b[0m\u001b[37m\u001b[0m \u001b[1m0s\u001b[0m 92ms/step\n",
      "🎯 Sample index: 2\n",
      "   ➤ Prediction Probability: 0.0073\n",
      "   ➤ Predicted Class: Not CKD\n",
      "   ✅ Actual Class   : Not CKD\n",
      "\n",
      "\u001b[1m1/1\u001b[0m \u001b[32m━━━━━━━━━━━━━━━━━━━━\u001b[0m\u001b[37m\u001b[0m \u001b[1m0s\u001b[0m 113ms/step\n",
      "🎯 Sample index: 3\n",
      "   ➤ Prediction Probability: 0.0009\n",
      "   ➤ Predicted Class: Not CKD\n",
      "   ✅ Actual Class   : Not CKD\n",
      "\n",
      "\u001b[1m1/1\u001b[0m \u001b[32m━━━━━━━━━━━━━━━━━━━━\u001b[0m\u001b[37m\u001b[0m \u001b[1m0s\u001b[0m 109ms/step\n",
      "🎯 Sample index: 5\n",
      "   ➤ Prediction Probability: 0.0000\n",
      "   ➤ Predicted Class: Not CKD\n",
      "   ✅ Actual Class   : Not CKD\n",
      "\n",
      "\u001b[1m1/1\u001b[0m \u001b[32m━━━━━━━━━━━━━━━━━━━━\u001b[0m\u001b[37m\u001b[0m \u001b[1m0s\u001b[0m 112ms/step\n",
      "🎯 Sample index: 8\n",
      "   ➤ Prediction Probability: 0.0002\n",
      "   ➤ Predicted Class: Not CKD\n",
      "   ✅ Actual Class   : Not CKD\n",
      "\n"
     ]
    }
   ],
   "source": [
    "import numpy as np\n",
    "\n",
    "# Make sure y_test is a Series or numpy array\n",
    "y_test_values = y_test.values if hasattr(y_test, 'values') else y_test\n",
    "\n",
    "# Get indexes of 5 CKD (1) and 5 Not CKD (0)\n",
    "ckd_indices = np.where(y_test_values == 1)[0][:5]\n",
    "not_ckd_indices = np.where(y_test_values == 0)[0][:5]\n",
    "\n",
    "# Combine indices\n",
    "sample_indices = np.concatenate([ckd_indices, not_ckd_indices])\n",
    "\n",
    "print(\"🔍 Testing 10 samples (5 CKD, 5 Not CKD):\\n\")\n",
    "\n",
    "for idx in sample_indices:\n",
    "    sample = X_test.iloc[idx].values.reshape(1, -1)\n",
    "    true_label = y_test_values[idx]\n",
    "    \n",
    "    pred_prob = ann_model.predict(sample)[0][0]\n",
    "    pred_class = int(pred_prob > 0.5)\n",
    "\n",
    "    print(f\"🎯 Sample index: {idx}\")\n",
    "    print(f\"   ➤ Prediction Probability: {pred_prob:.4f}\")\n",
    "    print(f\"   ➤ Predicted Class: {'CKD' if pred_class == 1 else 'Not CKD'}\")\n",
    "    print(f\"   ✅ Actual Class   : {'CKD' if true_label == 1 else 'Not CKD'}\\n\")\n"
   ]
  },
  {
   "cell_type": "code",
   "execution_count": 174,
   "id": "d9e7fdef-173f-4aa2-8750-f66d4897e458",
   "metadata": {},
   "outputs": [
    {
     "name": "stdout",
     "output_type": "stream",
     "text": [
      "🎯 Unique values in target: [0 1]\n",
      "\n",
      "📊 Class distribution:\n",
      "target\n",
      "0    248\n",
      "1    150\n",
      "Name: count, dtype: int64\n"
     ]
    }
   ],
   "source": [
    "print(\"🎯 Unique values in target:\", df['target'].unique())\n",
    "print(\"\\n📊 Class distribution:\")\n",
    "print(df['target'].value_counts())\n"
   ]
  },
  {
   "cell_type": "code",
   "execution_count": 175,
   "id": "bcbb95d0-fdcc-4a1a-9ca4-b0fbd8e5444a",
   "metadata": {},
   "outputs": [
    {
     "name": "stderr",
     "output_type": "stream",
     "text": [
      "C:\\Users\\Disha Satpute\\AppData\\Local\\Programs\\Python\\Python311\\Lib\\site-packages\\keras\\src\\layers\\core\\dense.py:93: UserWarning: Do not pass an `input_shape`/`input_dim` argument to a layer. When using Sequential models, prefer using an `Input(shape)` object as the first layer in the model instead.\n",
      "  super().__init__(activity_regularizer=activity_regularizer, **kwargs)\n"
     ]
    },
    {
     "name": "stdout",
     "output_type": "stream",
     "text": [
      "Epoch 1/200\n",
      "\u001b[1m10/10\u001b[0m \u001b[32m━━━━━━━━━━━━━━━━━━━━\u001b[0m\u001b[37m\u001b[0m \u001b[1m3s\u001b[0m 71ms/step - accuracy: 0.6389 - loss: 885.8775 - val_accuracy: 0.0250 - val_loss: 1735.1176\n",
      "Epoch 2/200\n",
      "\u001b[1m10/10\u001b[0m \u001b[32m━━━━━━━━━━━━━━━━━━━━\u001b[0m\u001b[37m\u001b[0m \u001b[1m0s\u001b[0m 29ms/step - accuracy: 0.6390 - loss: 545.9531 - val_accuracy: 0.0250 - val_loss: 845.0587\n",
      "Epoch 3/200\n",
      "\u001b[1m10/10\u001b[0m \u001b[32m━━━━━━━━━━━━━━━━━━━━\u001b[0m\u001b[37m\u001b[0m \u001b[1m0s\u001b[0m 28ms/step - accuracy: 0.6405 - loss: 229.6211 - val_accuracy: 0.2500 - val_loss: 13.7328\n",
      "Epoch 4/200\n",
      "\u001b[1m10/10\u001b[0m \u001b[32m━━━━━━━━━━━━━━━━━━━━\u001b[0m\u001b[37m\u001b[0m \u001b[1m0s\u001b[0m 25ms/step - accuracy: 0.4243 - loss: 83.4794 - val_accuracy: 0.5625 - val_loss: 4.4892\n",
      "Epoch 5/200\n",
      "\u001b[1m10/10\u001b[0m \u001b[32m━━━━━━━━━━━━━━━━━━━━\u001b[0m\u001b[37m\u001b[0m \u001b[1m0s\u001b[0m 24ms/step - accuracy: 0.5389 - loss: 31.0402 - val_accuracy: 0.0250 - val_loss: 100.2038\n",
      "Epoch 6/200\n",
      "\u001b[1m10/10\u001b[0m \u001b[32m━━━━━━━━━━━━━━━━━━━━\u001b[0m\u001b[37m\u001b[0m \u001b[1m0s\u001b[0m 23ms/step - accuracy: 0.4790 - loss: 35.4934 - val_accuracy: 0.0375 - val_loss: 48.1141\n",
      "Epoch 7/200\n",
      "\u001b[1m10/10\u001b[0m \u001b[32m━━━━━━━━━━━━━━━━━━━━\u001b[0m\u001b[37m\u001b[0m \u001b[1m0s\u001b[0m 22ms/step - accuracy: 0.5099 - loss: 24.0416 - val_accuracy: 0.9750 - val_loss: 0.7333\n",
      "Epoch 8/200\n",
      "\u001b[1m10/10\u001b[0m \u001b[32m━━━━━━━━━━━━━━━━━━━━\u001b[0m\u001b[37m\u001b[0m \u001b[1m0s\u001b[0m 23ms/step - accuracy: 0.4423 - loss: 21.3704 - val_accuracy: 0.5375 - val_loss: 4.2175\n",
      "Epoch 9/200\n",
      "\u001b[1m10/10\u001b[0m \u001b[32m━━━━━━━━━━━━━━━━━━━━\u001b[0m\u001b[37m\u001b[0m \u001b[1m0s\u001b[0m 31ms/step - accuracy: 0.4395 - loss: 13.0363 - val_accuracy: 0.1625 - val_loss: 19.5189\n",
      "Epoch 10/200\n",
      "\u001b[1m10/10\u001b[0m \u001b[32m━━━━━━━━━━━━━━━━━━━━\u001b[0m\u001b[37m\u001b[0m \u001b[1m0s\u001b[0m 29ms/step - accuracy: 0.4409 - loss: 13.7864 - val_accuracy: 0.1250 - val_loss: 22.8319\n",
      "Epoch 11/200\n",
      "\u001b[1m10/10\u001b[0m \u001b[32m━━━━━━━━━━━━━━━━━━━━\u001b[0m\u001b[37m\u001b[0m \u001b[1m0s\u001b[0m 30ms/step - accuracy: 0.4670 - loss: 10.7250 - val_accuracy: 0.1625 - val_loss: 15.9028\n",
      "Epoch 12/200\n",
      "\u001b[1m10/10\u001b[0m \u001b[32m━━━━━━━━━━━━━━━━━━━━\u001b[0m\u001b[37m\u001b[0m \u001b[1m0s\u001b[0m 24ms/step - accuracy: 0.5314 - loss: 8.5347 - val_accuracy: 0.1625 - val_loss: 15.0886\n",
      "Epoch 13/200\n",
      "\u001b[1m10/10\u001b[0m \u001b[32m━━━━━━━━━━━━━━━━━━━━\u001b[0m\u001b[37m\u001b[0m \u001b[1m0s\u001b[0m 22ms/step - accuracy: 0.4872 - loss: 9.3459 - val_accuracy: 0.3250 - val_loss: 6.5252\n",
      "Epoch 14/200\n",
      "\u001b[1m10/10\u001b[0m \u001b[32m━━━━━━━━━━━━━━━━━━━━\u001b[0m\u001b[37m\u001b[0m \u001b[1m0s\u001b[0m 26ms/step - accuracy: 0.4610 - loss: 8.3020 - val_accuracy: 0.1625 - val_loss: 13.9692\n",
      "Epoch 15/200\n",
      "\u001b[1m10/10\u001b[0m \u001b[32m━━━━━━━━━━━━━━━━━━━━\u001b[0m\u001b[37m\u001b[0m \u001b[1m0s\u001b[0m 21ms/step - accuracy: 0.4858 - loss: 8.0696 - val_accuracy: 0.0750 - val_loss: 19.2896\n",
      "Epoch 16/200\n",
      "\u001b[1m10/10\u001b[0m \u001b[32m━━━━━━━━━━━━━━━━━━━━\u001b[0m\u001b[37m\u001b[0m \u001b[1m0s\u001b[0m 23ms/step - accuracy: 0.4842 - loss: 9.7521 - val_accuracy: 0.8000 - val_loss: 0.6664\n",
      "Epoch 17/200\n",
      "\u001b[1m10/10\u001b[0m \u001b[32m━━━━━━━━━━━━━━━━━━━━\u001b[0m\u001b[37m\u001b[0m \u001b[1m0s\u001b[0m 23ms/step - accuracy: 0.4881 - loss: 6.9516 - val_accuracy: 0.8375 - val_loss: 0.4563\n",
      "Epoch 18/200\n",
      "\u001b[1m10/10\u001b[0m \u001b[32m━━━━━━━━━━━━━━━━━━━━\u001b[0m\u001b[37m\u001b[0m \u001b[1m0s\u001b[0m 22ms/step - accuracy: 0.4634 - loss: 8.8196 - val_accuracy: 0.2500 - val_loss: 6.6297\n",
      "Epoch 19/200\n",
      "\u001b[1m10/10\u001b[0m \u001b[32m━━━━━━━━━━━━━━━━━━━━\u001b[0m\u001b[37m\u001b[0m \u001b[1m0s\u001b[0m 24ms/step - accuracy: 0.5735 - loss: 5.1292 - val_accuracy: 0.9750 - val_loss: 0.1775\n",
      "Epoch 20/200\n",
      "\u001b[1m10/10\u001b[0m \u001b[32m━━━━━━━━━━━━━━━━━━━━\u001b[0m\u001b[37m\u001b[0m \u001b[1m0s\u001b[0m 27ms/step - accuracy: 0.5489 - loss: 5.1517 - val_accuracy: 0.1875 - val_loss: 6.8323\n",
      "Epoch 21/200\n",
      "\u001b[1m10/10\u001b[0m \u001b[32m━━━━━━━━━━━━━━━━━━━━\u001b[0m\u001b[37m\u001b[0m \u001b[1m0s\u001b[0m 27ms/step - accuracy: 0.5788 - loss: 3.7555 - val_accuracy: 0.9625 - val_loss: 0.1226\n",
      "Epoch 22/200\n",
      "\u001b[1m10/10\u001b[0m \u001b[32m━━━━━━━━━━━━━━━━━━━━\u001b[0m\u001b[37m\u001b[0m \u001b[1m0s\u001b[0m 24ms/step - accuracy: 0.6000 - loss: 3.8653 - val_accuracy: 0.0250 - val_loss: 21.7642\n",
      "Epoch 23/200\n",
      "\u001b[1m10/10\u001b[0m \u001b[32m━━━━━━━━━━━━━━━━━━━━\u001b[0m\u001b[37m\u001b[0m \u001b[1m0s\u001b[0m 26ms/step - accuracy: 0.5486 - loss: 6.3077 - val_accuracy: 0.9750 - val_loss: 0.0989\n",
      "Epoch 24/200\n",
      "\u001b[1m10/10\u001b[0m \u001b[32m━━━━━━━━━━━━━━━━━━━━\u001b[0m\u001b[37m\u001b[0m \u001b[1m0s\u001b[0m 22ms/step - accuracy: 0.6048 - loss: 3.9480 - val_accuracy: 0.0625 - val_loss: 10.0893\n",
      "Epoch 25/200\n",
      "\u001b[1m10/10\u001b[0m \u001b[32m━━━━━━━━━━━━━━━━━━━━\u001b[0m\u001b[37m\u001b[0m \u001b[1m0s\u001b[0m 25ms/step - accuracy: 0.6383 - loss: 3.3056 - val_accuracy: 0.2125 - val_loss: 4.2070\n",
      "Epoch 26/200\n",
      "\u001b[1m10/10\u001b[0m \u001b[32m━━━━━━━━━━━━━━━━━━━━\u001b[0m\u001b[37m\u001b[0m \u001b[1m0s\u001b[0m 28ms/step - accuracy: 0.6281 - loss: 2.5853 - val_accuracy: 0.9875 - val_loss: 0.0303\n",
      "Epoch 27/200\n",
      "\u001b[1m10/10\u001b[0m \u001b[32m━━━━━━━━━━━━━━━━━━━━\u001b[0m\u001b[37m\u001b[0m \u001b[1m0s\u001b[0m 22ms/step - accuracy: 0.6356 - loss: 2.2936 - val_accuracy: 0.9750 - val_loss: 0.1381\n",
      "Epoch 28/200\n",
      "\u001b[1m10/10\u001b[0m \u001b[32m━━━━━━━━━━━━━━━━━━━━\u001b[0m\u001b[37m\u001b[0m \u001b[1m0s\u001b[0m 26ms/step - accuracy: 0.5691 - loss: 3.4575 - val_accuracy: 0.0875 - val_loss: 4.8084\n",
      "Epoch 29/200\n",
      "\u001b[1m10/10\u001b[0m \u001b[32m━━━━━━━━━━━━━━━━━━━━\u001b[0m\u001b[37m\u001b[0m \u001b[1m0s\u001b[0m 26ms/step - accuracy: 0.6375 - loss: 2.4281 - val_accuracy: 0.0250 - val_loss: 9.6819\n",
      "Epoch 30/200\n",
      "\u001b[1m10/10\u001b[0m \u001b[32m━━━━━━━━━━━━━━━━━━━━\u001b[0m\u001b[37m\u001b[0m \u001b[1m0s\u001b[0m 23ms/step - accuracy: 0.6241 - loss: 3.0381 - val_accuracy: 0.5250 - val_loss: 1.0494\n",
      "Epoch 31/200\n",
      "\u001b[1m10/10\u001b[0m \u001b[32m━━━━━━━━━━━━━━━━━━━━\u001b[0m\u001b[37m\u001b[0m \u001b[1m0s\u001b[0m 22ms/step - accuracy: 0.6714 - loss: 1.3349 - val_accuracy: 0.4750 - val_loss: 1.2229\n",
      "Epoch 32/200\n",
      "\u001b[1m10/10\u001b[0m \u001b[32m━━━━━━━━━━━━━━━━━━━━\u001b[0m\u001b[37m\u001b[0m \u001b[1m0s\u001b[0m 23ms/step - accuracy: 0.7209 - loss: 1.3153 - val_accuracy: 0.8625 - val_loss: 0.3498\n",
      "Epoch 33/200\n",
      "\u001b[1m10/10\u001b[0m \u001b[32m━━━━━━━━━━━━━━━━━━━━\u001b[0m\u001b[37m\u001b[0m \u001b[1m0s\u001b[0m 22ms/step - accuracy: 0.8079 - loss: 0.5771 - val_accuracy: 0.9000 - val_loss: 0.3173\n",
      "Epoch 34/200\n",
      "\u001b[1m10/10\u001b[0m \u001b[32m━━━━━━━━━━━━━━━━━━━━\u001b[0m\u001b[37m\u001b[0m \u001b[1m0s\u001b[0m 23ms/step - accuracy: 0.8344 - loss: 0.4911 - val_accuracy: 0.9625 - val_loss: 0.1297\n",
      "Epoch 35/200\n",
      "\u001b[1m10/10\u001b[0m \u001b[32m━━━━━━━━━━━━━━━━━━━━\u001b[0m\u001b[37m\u001b[0m \u001b[1m0s\u001b[0m 22ms/step - accuracy: 0.7885 - loss: 0.6594 - val_accuracy: 0.9750 - val_loss: 0.1217\n",
      "Epoch 36/200\n",
      "\u001b[1m10/10\u001b[0m \u001b[32m━━━━━━━━━━━━━━━━━━━━\u001b[0m\u001b[37m\u001b[0m \u001b[1m0s\u001b[0m 22ms/step - accuracy: 0.7857 - loss: 0.6419 - val_accuracy: 0.9875 - val_loss: 0.0159\n",
      "Epoch 37/200\n",
      "\u001b[1m10/10\u001b[0m \u001b[32m━━━━━━━━━━━━━━━━━━━━\u001b[0m\u001b[37m\u001b[0m \u001b[1m0s\u001b[0m 23ms/step - accuracy: 0.7996 - loss: 0.6356 - val_accuracy: 1.0000 - val_loss: 0.0146\n",
      "Epoch 38/200\n",
      "\u001b[1m10/10\u001b[0m \u001b[32m━━━━━━━━━━━━━━━━━━━━\u001b[0m\u001b[37m\u001b[0m \u001b[1m0s\u001b[0m 25ms/step - accuracy: 0.8169 - loss: 0.6204 - val_accuracy: 0.9000 - val_loss: 0.2639\n",
      "Epoch 39/200\n",
      "\u001b[1m10/10\u001b[0m \u001b[32m━━━━━━━━━━━━━━━━━━━━\u001b[0m\u001b[37m\u001b[0m \u001b[1m0s\u001b[0m 24ms/step - accuracy: 0.8459 - loss: 0.4495 - val_accuracy: 0.0375 - val_loss: 4.1323\n",
      "Epoch 40/200\n",
      "\u001b[1m10/10\u001b[0m \u001b[32m━━━━━━━━━━━━━━━━━━━━\u001b[0m\u001b[37m\u001b[0m \u001b[1m0s\u001b[0m 28ms/step - accuracy: 0.7102 - loss: 1.2005 - val_accuracy: 0.6000 - val_loss: 0.8608\n",
      "Epoch 41/200\n",
      "\u001b[1m10/10\u001b[0m \u001b[32m━━━━━━━━━━━━━━━━━━━━\u001b[0m\u001b[37m\u001b[0m \u001b[1m0s\u001b[0m 23ms/step - accuracy: 0.7325 - loss: 1.1849 - val_accuracy: 0.9875 - val_loss: 0.0225\n",
      "Epoch 42/200\n",
      "\u001b[1m10/10\u001b[0m \u001b[32m━━━━━━━━━━━━━━━━━━━━\u001b[0m\u001b[37m\u001b[0m \u001b[1m0s\u001b[0m 25ms/step - accuracy: 0.7832 - loss: 0.8964 - val_accuracy: 0.9875 - val_loss: 0.0423\n",
      "Epoch 43/200\n",
      "\u001b[1m10/10\u001b[0m \u001b[32m━━━━━━━━━━━━━━━━━━━━\u001b[0m\u001b[37m\u001b[0m \u001b[1m0s\u001b[0m 24ms/step - accuracy: 0.8168 - loss: 0.5952 - val_accuracy: 0.9125 - val_loss: 0.2330\n",
      "Epoch 44/200\n",
      "\u001b[1m10/10\u001b[0m \u001b[32m━━━━━━━━━━━━━━━━━━━━\u001b[0m\u001b[37m\u001b[0m \u001b[1m0s\u001b[0m 22ms/step - accuracy: 0.8085 - loss: 0.5107 - val_accuracy: 0.1500 - val_loss: 2.9013\n",
      "Epoch 45/200\n",
      "\u001b[1m10/10\u001b[0m \u001b[32m━━━━━━━━━━━━━━━━━━━━\u001b[0m\u001b[37m\u001b[0m \u001b[1m0s\u001b[0m 24ms/step - accuracy: 0.7761 - loss: 0.7201 - val_accuracy: 0.9000 - val_loss: 0.2738\n",
      "Epoch 46/200\n",
      "\u001b[1m10/10\u001b[0m \u001b[32m━━━━━━━━━━━━━━━━━━━━\u001b[0m\u001b[37m\u001b[0m \u001b[1m0s\u001b[0m 25ms/step - accuracy: 0.8085 - loss: 0.6969 - val_accuracy: 0.9875 - val_loss: 0.0207\n",
      "Epoch 47/200\n",
      "\u001b[1m10/10\u001b[0m \u001b[32m━━━━━━━━━━━━━━━━━━━━\u001b[0m\u001b[37m\u001b[0m \u001b[1m0s\u001b[0m 27ms/step - accuracy: 0.6760 - loss: 1.3902 - val_accuracy: 1.0000 - val_loss: 0.0203\n",
      "\u001b[1m3/3\u001b[0m \u001b[32m━━━━━━━━━━━━━━━━━━━━\u001b[0m\u001b[37m\u001b[0m \u001b[1m0s\u001b[0m 62ms/step\n",
      "\n",
      "✅ Accuracy: 0.8125\n",
      "\n",
      "📊 Confusion Matrix:\n",
      " [[35 15]\n",
      " [ 0 30]]\n",
      "\n",
      "📝 Classification Report:\n",
      "               precision    recall  f1-score   support\n",
      "\n",
      "           0       1.00      0.70      0.82        50\n",
      "           1       0.67      1.00      0.80        30\n",
      "\n",
      "    accuracy                           0.81        80\n",
      "   macro avg       0.83      0.85      0.81        80\n",
      "weighted avg       0.88      0.81      0.81        80\n",
      "\n"
     ]
    },
    {
     "name": "stderr",
     "output_type": "stream",
     "text": [
      "C:\\Users\\Disha Satpute\\AppData\\Local\\Temp\\ipykernel_12200\\1324377296.py:59: UserWarning: Glyph 128200 (\\N{CHART WITH UPWARDS TREND}) missing from font(s) DejaVu Sans.\n",
      "  plt.tight_layout()\n",
      "C:\\Users\\Disha Satpute\\AppData\\Local\\Temp\\ipykernel_12200\\1324377296.py:59: UserWarning: Glyph 128201 (\\N{CHART WITH DOWNWARDS TREND}) missing from font(s) DejaVu Sans.\n",
      "  plt.tight_layout()\n",
      "C:\\Users\\Disha Satpute\\AppData\\Local\\Programs\\Python\\Python311\\Lib\\site-packages\\IPython\\core\\pylabtools.py:170: UserWarning: Glyph 128200 (\\N{CHART WITH UPWARDS TREND}) missing from font(s) DejaVu Sans.\n",
      "  fig.canvas.print_figure(bytes_io, **kw)\n",
      "C:\\Users\\Disha Satpute\\AppData\\Local\\Programs\\Python\\Python311\\Lib\\site-packages\\IPython\\core\\pylabtools.py:170: UserWarning: Glyph 128201 (\\N{CHART WITH DOWNWARDS TREND}) missing from font(s) DejaVu Sans.\n",
      "  fig.canvas.print_figure(bytes_io, **kw)\n"
     ]
    },
    {
     "data": {
      "image/png": "[encoded data removed]",
      "text/plain": [
       "<Figure size 1200x500 with 2 Axes>"
      ]
     },
     "metadata": {},
     "output_type": "display_data"
    }
   ],
   "source": [
    "from tensorflow.keras.models import Sequential\n",
    "from tensorflow.keras.layers import Dense\n",
    "from tensorflow.keras.callbacks import EarlyStopping\n",
    "import matplotlib.pyplot as plt\n",
    "\n",
    "# 1️⃣ Define the ANN model\n",
    "ann_model = Sequential()\n",
    "ann_model.add(Dense(units=32, activation='relu', input_shape=(X_train_res.shape[1],)))\n",
    "ann_model.add(Dense(units=16, activation='relu'))\n",
    "ann_model.add(Dense(units=1, activation='sigmoid'))  # Binary output (0 = Not CKD, 1 = CKD)\n",
    "\n",
    "# 2️⃣ Compile the model\n",
    "ann_model.compile(optimizer='adam', loss='binary_crossentropy', metrics=['accuracy'])\n",
    "\n",
    "# 3️⃣ Early stopping\n",
    "early_stop = EarlyStopping(monitor='val_loss', patience=10, restore_best_weights=True)\n",
    "\n",
    "# 4️⃣ Train the model\n",
    "history = ann_model.fit(\n",
    "    X_train_res, y_train_res,\n",
    "    batch_size=32,\n",
    "    epochs=200,\n",
    "    validation_split=0.2,\n",
    "    callbacks=[early_stop],\n",
    "    verbose=1\n",
    ")\n",
    "\n",
    "# 5️⃣ Evaluate on test set\n",
    "from sklearn.metrics import classification_report, confusion_matrix, accuracy_score\n",
    "\n",
    "y_pred_prob = ann_model.predict(X_test)\n",
    "y_pred = (y_pred_prob > 0.5).astype(int)\n",
    "\n",
    "print(\"\\n✅ Accuracy:\", accuracy_score(y_test, y_pred))\n",
    "print(\"\\n📊 Confusion Matrix:\\n\", confusion_matrix(y_test, y_pred))\n",
    "print(\"\\n📝 Classification Report:\\n\", classification_report(y_test, y_pred, zero_division=0))\n",
    "\n",
    "# 6️⃣ Plot Accuracy and Loss\n",
    "plt.figure(figsize=(12,5))\n",
    "\n",
    "# Accuracy plot\n",
    "plt.subplot(1, 2, 1)\n",
    "plt.plot(history.history['accuracy'], label='Train Accuracy', marker='o')\n",
    "plt.plot(history.history['val_accuracy'], label='Validation Accuracy', marker='x')\n",
    "plt.title('📈 Model Accuracy')\n",
    "plt.xlabel('Epoch')\n",
    "plt.ylabel('Accuracy')\n",
    "plt.legend()\n",
    "\n",
    "# Loss plot\n",
    "plt.subplot(1, 2, 2)\n",
    "plt.plot(history.history['loss'], label='Train Loss', marker='o')\n",
    "plt.plot(history.history['val_loss'], label='Validation Loss', marker='x')\n",
    "plt.title('📉 Model Loss')\n",
    "plt.xlabel('Epoch')\n",
    "plt.ylabel('Loss')\n",
    "plt.legend()\n",
    "\n",
    "plt.tight_layout()\n",
    "plt.show()\n"
   ]
  },
  {
   "cell_type": "code",
   "execution_count": 176,
   "id": "9f56fae7-7dcb-42c5-81da-e58bc72609f7",
   "metadata": {},
   "outputs": [
    {
     "name": "stdout",
     "output_type": "stream",
     "text": [
      "\n",
      "🎯 Sample index: 72\n",
      "   ➤ Prediction Probability: 0.9423\n",
      "   ➤ Predicted Class       : CKD\n",
      "   ✅ Actual Class          : CKD\n",
      "\n",
      "🎯 Sample index: 35\n",
      "   ➤ Prediction Probability: 0.9863\n",
      "   ➤ Predicted Class       : CKD\n",
      "   ✅ Actual Class          : CKD\n",
      "\n",
      "🎯 Sample index: 61\n",
      "   ➤ Prediction Probability: 0.9896\n",
      "   ➤ Predicted Class       : CKD\n",
      "   ✅ Actual Class          : CKD\n",
      "\n",
      "🎯 Sample index: 44\n",
      "   ➤ Prediction Probability: 0.9925\n",
      "   ➤ Predicted Class       : CKD\n",
      "   ✅ Actual Class          : CKD\n",
      "\n",
      "🎯 Sample index: 21\n",
      "   ➤ Prediction Probability: 0.9999\n",
      "   ➤ Predicted Class       : CKD\n",
      "   ✅ Actual Class          : CKD\n",
      "\n",
      "🎯 Sample index: 25\n",
      "   ➤ Prediction Probability: 0.0009\n",
      "   ➤ Predicted Class       : Not CKD\n",
      "   ✅ Actual Class          : Not CKD\n",
      "\n",
      "🎯 Sample index: 63\n",
      "   ➤ Prediction Probability: 0.9987\n",
      "   ➤ Predicted Class       : CKD\n",
      "   ✅ Actual Class          : Not CKD\n",
      "\n",
      "🎯 Sample index: 49\n",
      "   ➤ Prediction Probability: 0.0031\n",
      "   ➤ Predicted Class       : Not CKD\n",
      "   ✅ Actual Class          : Not CKD\n",
      "\n",
      "🎯 Sample index: 74\n",
      "   ➤ Prediction Probability: 0.0016\n",
      "   ➤ Predicted Class       : Not CKD\n",
      "   ✅ Actual Class          : Not CKD\n",
      "\n",
      "🎯 Sample index: 31\n",
      "   ➤ Prediction Probability: 0.9977\n",
      "   ➤ Predicted Class       : CKD\n",
      "   ✅ Actual Class          : Not CKD\n"
     ]
    }
   ],
   "source": [
    "import numpy as np\n",
    "\n",
    "# Reset index for matching\n",
    "X_test = X_test.reset_index(drop=True)\n",
    "y_test = y_test.reset_index(drop=True)\n",
    "\n",
    "# Get 5 CKD and 5 Not CKD samples\n",
    "ckd_samples = X_test[y_test == 1].sample(5, random_state=42)\n",
    "non_ckd_samples = X_test[y_test == 0].sample(5, random_state=42)\n",
    "\n",
    "# Combine them\n",
    "sample_cases = pd.concat([ckd_samples, non_ckd_samples])\n",
    "sample_labels = y_test.loc[sample_cases.index]\n",
    "\n",
    "# Run predictions\n",
    "for i, (index, row) in enumerate(sample_cases.iterrows()):\n",
    "    sample_input = np.array(row).reshape(1, -1)\n",
    "    sample_pred_prob = ann_model.predict(sample_input, verbose=0)\n",
    "    sample_pred = int(sample_pred_prob[0][0] > 0.5)\n",
    "\n",
    "    print(f\"\\n🎯 Sample index: {index}\")\n",
    "    print(f\"   ➤ Prediction Probability: {sample_pred_prob[0][0]:.4f}\")\n",
    "    print(f\"   ➤ Predicted Class       : {'CKD' if sample_pred else 'Not CKD'}\")\n",
    "    print(f\"   ✅ Actual Class          : {'CKD' if sample_labels.loc[index]==1 else 'Not CKD'}\")\n"
   ]
  },
  {
   "cell_type": "code",
   "execution_count": null,
   "id": "3eefff95-f8c3-475e-83d9-230a2b1739a1",
   "metadata": {},
   "outputs": [],
   "source": []
  },
  {
   "cell_type": "code",
   "execution_count": null,
   "id": "18153bfb-883c-49fc-b080-732ac77d8876",
   "metadata": {},
   "outputs": [],
   "source": []
  }
 ],
 "metadata": {
  "kernelspec": {
   "display_name": "Python 3 (ipykernel)",
   "language": "python",
   "name": "python3"
  },
  "language_info": {
   "codemirror_mode": {
    "name": "ipython",
    "version": 3
   },
   "file_extension": ".py",
   "mimetype": "text/x-python",
   "name": "python",
   "nbconvert_exporter": "python",
   "pygments_lexer": "ipython3",
   "version": "3.11.9"
  }
 },
 "nbformat": 4,
 "nbformat_minor": 5
}
